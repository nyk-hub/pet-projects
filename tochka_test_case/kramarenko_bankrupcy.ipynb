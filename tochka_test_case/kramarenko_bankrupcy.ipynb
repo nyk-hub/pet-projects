{
 "cells": [
  {
   "cell_type": "code",
   "execution_count": 1,
   "id": "41e4d774-adf7-4a26-8a55-4c07f5752257",
   "metadata": {},
   "outputs": [],
   "source": [
    "import pandas as pd\n",
    "import os\n",
    "import matplotlib.pyplot as plt\n",
    "import seaborn as sns\n",
    "import pickle as pkl\n",
    "import numpy as np\n",
    "import sklearn\n",
    "from sklearn.metrics import roc_auc_score, fbeta_score, precision_score, recall_score\n",
    "import catboost\n",
    "\n",
    "SEED = 42\n",
    "%matplotlib inline\n",
    "sns.set(style='whitegrid',\n",
    "        rc={'figure.figsize': (14, 6)})"
   ]
  },
  {
   "cell_type": "code",
   "execution_count": 2,
   "id": "3fd233a1-0f83-4d6d-8c48-4c741fee9412",
   "metadata": {},
   "outputs": [
    {
     "name": "stdout",
     "output_type": "stream",
     "text": [
      "pandas 1.3.0\n",
      "numpy 1.20.3\n",
      "sklearn 0.24.2\n",
      "catboost 0.24.2\n"
     ]
    }
   ],
   "source": [
    "print('pandas', pd.__version__)\n",
    "print('numpy', np.__version__)\n",
    "print('sklearn', sklearn.__version__)\n",
    "print('catboost', catboost.__version__)"
   ]
  },
  {
   "cell_type": "code",
   "execution_count": 3,
   "id": "9be9075b-97a1-423a-8a44-e648f2f2baf6",
   "metadata": {},
   "outputs": [],
   "source": [
    "curr_dir = os.getcwd()\n",
    "data_dir = os.path.join(curr_dir, 'data')\n",
    "cases_dir = os.path.join(curr_dir, 'data/court_cases_sample/success')"
   ]
  },
  {
   "cell_type": "code",
   "execution_count": 4,
   "id": "b5928d89-d0ad-4723-9b07-fa9a53d05f11",
   "metadata": {},
   "outputs": [],
   "source": [
    "accounts_sample = pd.read_csv(os.path.join(data_dir, 'df_accounts_sample.csv'), index_col=0)\n",
    "bankruptcies_sample = pd.read_csv(os.path.join(data_dir, 'df_bankruptcies_sample.csv'), index_col=0)"
   ]
  },
  {
   "cell_type": "code",
   "execution_count": 5,
   "id": "47474420-7c32-40d1-a8c4-f161f2747dea",
   "metadata": {},
   "outputs": [
    {
     "data": {
      "text/html": [
       "<div>\n",
       "<style scoped>\n",
       "    .dataframe tbody tr th:only-of-type {\n",
       "        vertical-align: middle;\n",
       "    }\n",
       "\n",
       "    .dataframe tbody tr th {\n",
       "        vertical-align: top;\n",
       "    }\n",
       "\n",
       "    .dataframe thead th {\n",
       "        text-align: right;\n",
       "    }\n",
       "</style>\n",
       "<table border=\"1\" class=\"dataframe\">\n",
       "  <thead>\n",
       "    <tr style=\"text-align: right;\">\n",
       "      <th></th>\n",
       "      <th>inn</th>\n",
       "      <th>year</th>\n",
       "      <th>long_term_liabilities_fiscal_year</th>\n",
       "      <th>short_term_liabilities_fiscal_year</th>\n",
       "      <th>balance_assets_fiscal_year</th>\n",
       "      <th>okei</th>\n",
       "    </tr>\n",
       "  </thead>\n",
       "  <tbody>\n",
       "    <tr>\n",
       "      <th>0</th>\n",
       "      <td>2465002653</td>\n",
       "      <td>2012</td>\n",
       "      <td>0.0</td>\n",
       "      <td>113756</td>\n",
       "      <td>122240</td>\n",
       "      <td>384</td>\n",
       "    </tr>\n",
       "    <tr>\n",
       "      <th>1</th>\n",
       "      <td>3505003270</td>\n",
       "      <td>2012</td>\n",
       "      <td>21461.0</td>\n",
       "      <td>20211</td>\n",
       "      <td>81132</td>\n",
       "      <td>384</td>\n",
       "    </tr>\n",
       "    <tr>\n",
       "      <th>2</th>\n",
       "      <td>3517003250</td>\n",
       "      <td>2012</td>\n",
       "      <td>0.0</td>\n",
       "      <td>0</td>\n",
       "      <td>48063</td>\n",
       "      <td>384</td>\n",
       "    </tr>\n",
       "    <tr>\n",
       "      <th>3</th>\n",
       "      <td>5501078737</td>\n",
       "      <td>2012</td>\n",
       "      <td>0.0</td>\n",
       "      <td>288763</td>\n",
       "      <td>419522</td>\n",
       "      <td>384</td>\n",
       "    </tr>\n",
       "    <tr>\n",
       "      <th>4</th>\n",
       "      <td>6140019517</td>\n",
       "      <td>2012</td>\n",
       "      <td>0.0</td>\n",
       "      <td>0</td>\n",
       "      <td>11089</td>\n",
       "      <td>384</td>\n",
       "    </tr>\n",
       "  </tbody>\n",
       "</table>\n",
       "</div>"
      ],
      "text/plain": [
       "          inn  year  long_term_liabilities_fiscal_year  \\\n",
       "0  2465002653  2012                                0.0   \n",
       "1  3505003270  2012                            21461.0   \n",
       "2  3517003250  2012                                0.0   \n",
       "3  5501078737  2012                                0.0   \n",
       "4  6140019517  2012                                0.0   \n",
       "\n",
       "   short_term_liabilities_fiscal_year  balance_assets_fiscal_year  okei  \n",
       "0                              113756                      122240   384  \n",
       "1                               20211                       81132   384  \n",
       "2                                   0                       48063   384  \n",
       "3                              288763                      419522   384  \n",
       "4                                   0                       11089   384  "
      ]
     },
     "execution_count": 5,
     "metadata": {},
     "output_type": "execute_result"
    }
   ],
   "source": [
    "accounts_sample.head()"
   ]
  },
  {
   "cell_type": "code",
   "execution_count": 6,
   "id": "bd61f2ae-1fcf-4199-ae2c-3f465160a5d5",
   "metadata": {},
   "outputs": [
    {
     "name": "stdout",
     "output_type": "stream",
     "text": [
      "<class 'pandas.core.frame.DataFrame'>\n",
      "Int64Index: 1035 entries, 0 to 1034\n",
      "Data columns (total 6 columns):\n",
      " #   Column                              Non-Null Count  Dtype  \n",
      "---  ------                              --------------  -----  \n",
      " 0   inn                                 1035 non-null   int64  \n",
      " 1   year                                1035 non-null   int64  \n",
      " 2   long_term_liabilities_fiscal_year   960 non-null    float64\n",
      " 3   short_term_liabilities_fiscal_year  1035 non-null   int64  \n",
      " 4   balance_assets_fiscal_year          1035 non-null   int64  \n",
      " 5   okei                                1035 non-null   int64  \n",
      "dtypes: float64(1), int64(5)\n",
      "memory usage: 56.6 KB\n"
     ]
    }
   ],
   "source": [
    "accounts_sample.info()"
   ]
  },
  {
   "cell_type": "code",
   "execution_count": 7,
   "id": "a13e43b1-422d-4d78-9a3b-82cb912a8e52",
   "metadata": {},
   "outputs": [],
   "source": [
    "def okei(line):\n",
    "    \"\"\"\n",
    "    принимает на вход строку таблицы accounts_sample, возвращает все финансовые показатели, \n",
    "    умноженные на коэфф в зависимости от значения okei.\n",
    "    \"\"\"\n",
    "    mult = {384: 1e3, 385: 1e6}\n",
    "    if line.okei in mult:\n",
    "        coef = mult[line.okei]\n",
    "        line.long_term_liabilities_fiscal_year *= coef\n",
    "        line.short_term_liabilities_fiscal_year *= coef\n",
    "        line.balance_assets_fiscal_year *= coef\n",
    "        \n",
    "    return line"
   ]
  },
  {
   "cell_type": "code",
   "execution_count": 8,
   "id": "c066ce41-19d4-4893-92ce-b6f3173e96c5",
   "metadata": {
    "tags": []
   },
   "outputs": [],
   "source": [
    "# умножим все финансовые показатели на соответствующий им коэфф и удалим столбец okei\n",
    "accounts_sample = accounts_sample.apply(okei, axis=1)\n",
    "accounts_sample.drop('okei', axis=1, inplace=True)"
   ]
  },
  {
   "cell_type": "code",
   "execution_count": 9,
   "id": "c0400a5d-eda5-4da8-a3b2-cc3abeeb27cf",
   "metadata": {},
   "outputs": [
    {
     "data": {
      "text/html": [
       "<div>\n",
       "<style scoped>\n",
       "    .dataframe tbody tr th:only-of-type {\n",
       "        vertical-align: middle;\n",
       "    }\n",
       "\n",
       "    .dataframe tbody tr th {\n",
       "        vertical-align: top;\n",
       "    }\n",
       "\n",
       "    .dataframe thead th {\n",
       "        text-align: right;\n",
       "    }\n",
       "</style>\n",
       "<table border=\"1\" class=\"dataframe\">\n",
       "  <thead>\n",
       "    <tr style=\"text-align: right;\">\n",
       "      <th></th>\n",
       "      <th>bankrupt_id</th>\n",
       "      <th>bancrupt_year</th>\n",
       "      <th>inn</th>\n",
       "    </tr>\n",
       "  </thead>\n",
       "  <tbody>\n",
       "    <tr>\n",
       "      <th>0</th>\n",
       "      <td>79546</td>\n",
       "      <td>2015</td>\n",
       "      <td>5620006322</td>\n",
       "    </tr>\n",
       "    <tr>\n",
       "      <th>1</th>\n",
       "      <td>76594</td>\n",
       "      <td>2015</td>\n",
       "      <td>2111008200</td>\n",
       "    </tr>\n",
       "    <tr>\n",
       "      <th>2</th>\n",
       "      <td>94301</td>\n",
       "      <td>2016</td>\n",
       "      <td>5414100369</td>\n",
       "    </tr>\n",
       "    <tr>\n",
       "      <th>3</th>\n",
       "      <td>93799</td>\n",
       "      <td>2019</td>\n",
       "      <td>2347009476</td>\n",
       "    </tr>\n",
       "    <tr>\n",
       "      <th>4</th>\n",
       "      <td>199671</td>\n",
       "      <td>2018</td>\n",
       "      <td>7224008489</td>\n",
       "    </tr>\n",
       "  </tbody>\n",
       "</table>\n",
       "</div>"
      ],
      "text/plain": [
       "   bankrupt_id  bancrupt_year         inn\n",
       "0        79546           2015  5620006322\n",
       "1        76594           2015  2111008200\n",
       "2        94301           2016  5414100369\n",
       "3        93799           2019  2347009476\n",
       "4       199671           2018  7224008489"
      ]
     },
     "execution_count": 9,
     "metadata": {},
     "output_type": "execute_result"
    }
   ],
   "source": [
    "bankruptcies_sample.head()"
   ]
  },
  {
   "cell_type": "code",
   "execution_count": 10,
   "id": "4a865aa0-d138-4b22-aaa0-de5f32132b64",
   "metadata": {},
   "outputs": [
    {
     "name": "stdout",
     "output_type": "stream",
     "text": [
      "<class 'pandas.core.frame.DataFrame'>\n",
      "Int64Index: 106 entries, 0 to 105\n",
      "Data columns (total 3 columns):\n",
      " #   Column         Non-Null Count  Dtype\n",
      "---  ------         --------------  -----\n",
      " 0   bankrupt_id    106 non-null    int64\n",
      " 1   bancrupt_year  106 non-null    int64\n",
      " 2   inn            106 non-null    int64\n",
      "dtypes: int64(3)\n",
      "memory usage: 3.3 KB\n"
     ]
    }
   ],
   "source": [
    "bankruptcies_sample.info()"
   ]
  },
  {
   "cell_type": "code",
   "execution_count": 11,
   "id": "ab4acb9e-a65e-4849-aced-da0f96bc522d",
   "metadata": {},
   "outputs": [],
   "source": [
    "# столбец bankrupt_id нам не нужен\n",
    "bankruptcies_sample.drop('bankrupt_id', axis=1, inplace=True)"
   ]
  },
  {
   "cell_type": "code",
   "execution_count": 12,
   "id": "209dc10f-acfc-4465-b9bc-4c5b9e8cef8b",
   "metadata": {},
   "outputs": [],
   "source": [
    "# создадим новый столбец 'bankrupt' в таблице accounts_sample, это будет наш таргет\n",
    "# заполним единицами те объекты, ИНН и год которых соответствует банкротству фирмы\n",
    "for year, inn in bankruptcies_sample.values:\n",
    "    idx = accounts_sample[(accounts_sample.inn == inn) & (accounts_sample.year == year)].index\n",
    "    accounts_sample.loc[idx, 'bankrupt'] = 1\n",
    "# значения для остальных объектов заполним нулями\n",
    "accounts_sample.bankrupt.fillna(0, inplace=True)\n",
    "# accounts_sample.bankrupt = accounts_sample.bankrupt.astype('int')"
   ]
  },
  {
   "cell_type": "code",
   "execution_count": 13,
   "id": "1158888c-ae71-4e16-8dc5-c8bd9a4bb15a",
   "metadata": {},
   "outputs": [
    {
     "data": {
      "image/png": "[encoded data removed]",
      "text/plain": [
       "<Figure size 1008x432 with 1 Axes>"
      ]
     },
     "metadata": {},
     "output_type": "display_data"
    }
   ],
   "source": [
    "plt.pie(accounts_sample.bankrupt.value_counts(), labels=['Не банкрот', 'Банкрот']);"
   ]
  },
  {
   "cell_type": "code",
   "execution_count": 14,
   "id": "849cc237-f0d6-4ea0-9354-8a0af3ac86da",
   "metadata": {},
   "outputs": [
    {
     "name": "stdout",
     "output_type": "stream",
     "text": [
      "Доля банкротств: 6.18%\n"
     ]
    }
   ],
   "source": [
    "print('Доля банкротств:', f'{100 * accounts_sample.bankrupt.value_counts()[1] / len(accounts_sample):.2f}%')"
   ]
  },
  {
   "cell_type": "markdown",
   "id": "f9ca37dc-16d2-497e-b615-f6dd2d194a2b",
   "metadata": {},
   "source": [
    "Данные очень не сбалансированны, для даунсемплинга данных мало, можно будет попробовать оверсемплинг."
   ]
  },
  {
   "cell_type": "code",
   "execution_count": 15,
   "id": "970773f8-dcd6-4185-8d73-bc8a6f74ff59",
   "metadata": {},
   "outputs": [
    {
     "data": {
      "text/plain": [
       "0.0            622\n",
       "104013000.0      8\n",
       "4000.0           6\n",
       "102000.0         6\n",
       "6000000.0        6\n",
       "              ... \n",
       "36450000.0       1\n",
       "98009000.0       1\n",
       "33350000.0       1\n",
       "3211000.0        1\n",
       "17000.0          1\n",
       "Name: long_term_liabilities_fiscal_year, Length: 255, dtype: int64"
      ]
     },
     "execution_count": 15,
     "metadata": {},
     "output_type": "execute_result"
    }
   ],
   "source": [
    "accounts_sample.long_term_liabilities_fiscal_year.value_counts()"
   ]
  },
  {
   "cell_type": "code",
   "execution_count": 16,
   "id": "63545b90-f22a-49ba-af43-bb41aa157cf6",
   "metadata": {},
   "outputs": [
    {
     "name": "stdout",
     "output_type": "stream",
     "text": [
      "Доля банкротств среди фирм, где известна long_term_liabilities_fiscal_year: 0.06\n",
      "Доля банкротств среди фирм, где НЕ известна long_term_liabilities_fiscal_year: 0.08\n",
      "Доля банкротств среди фирм, long_term_liabilities_fiscal_year равна 0: 0.06\n"
     ]
    }
   ],
   "source": [
    "print('Доля банкротств среди фирм, где известна long_term_liabilities_fiscal_year:', \n",
    "      f'{accounts_sample.bankrupt[accounts_sample.long_term_liabilities_fiscal_year.notna()].mean():.2f}')\n",
    "\n",
    "print('Доля банкротств среди фирм, где НЕ известна long_term_liabilities_fiscal_year:', \n",
    "      f'{accounts_sample.bankrupt[accounts_sample.long_term_liabilities_fiscal_year.isna()].mean():.2f}')\n",
    "\n",
    "print('Доля банкротств среди фирм, long_term_liabilities_fiscal_year равна 0:', \n",
    "      f'{accounts_sample.bankrupt[accounts_sample.long_term_liabilities_fiscal_year == 0].mean():.2f}')"
   ]
  },
  {
   "cell_type": "markdown",
   "id": "d9cbebcb-7675-4cd1-968d-84d4836333a6",
   "metadata": {},
   "source": [
    "Доля банкротств среди фирм, где данные NaN чуть выше, чем среди известных или среди тех, где значение = 0. \n",
    "Это возможное место для экспериментов, но в начале мне кажется, что заменить пропущенные данные на 0 наиболее разумное решение. 0 - встречается чаще всего среди значений, плюс NaN в данной ситуации часто может означать как раз ноль.\n"
   ]
  },
  {
   "cell_type": "code",
   "execution_count": 17,
   "id": "8ca4717e-dbf8-417f-a5a9-585312231e7c",
   "metadata": {},
   "outputs": [],
   "source": [
    "accounts_sample.long_term_liabilities_fiscal_year.fillna(0, inplace=True)"
   ]
  },
  {
   "cell_type": "code",
   "execution_count": 18,
   "id": "2f8ecd13-7749-4c6e-b0d3-b327cb532ccf",
   "metadata": {},
   "outputs": [
    {
     "data": {
      "image/png": "[encoded data removed]",
      "text/plain": [
       "<Figure size 1008x432 with 1 Axes>"
      ]
     },
     "metadata": {},
     "output_type": "display_data"
    }
   ],
   "source": [
    "sns.stripplot(x=accounts_sample.bankrupt, y=accounts_sample.short_term_liabilities_fiscal_year);"
   ]
  },
  {
   "cell_type": "code",
   "execution_count": 19,
   "id": "a3865151-f785-438b-bedc-018f4620b38b",
   "metadata": {},
   "outputs": [
    {
     "data": {
      "image/png": "[encoded data removed]",
      "text/plain": [
       "<Figure size 1008x432 with 1 Axes>"
      ]
     },
     "metadata": {},
     "output_type": "display_data"
    }
   ],
   "source": [
    "sns.stripplot(x=accounts_sample.bankrupt, y=accounts_sample.long_term_liabilities_fiscal_year);"
   ]
  },
  {
   "cell_type": "code",
   "execution_count": 20,
   "id": "dc1e1867-2e18-42df-82b4-37b293309c8a",
   "metadata": {},
   "outputs": [
    {
     "data": {
      "image/png": "[encoded data removed]",
      "text/plain": [
       "<Figure size 1008x432 with 1 Axes>"
      ]
     },
     "metadata": {},
     "output_type": "display_data"
    }
   ],
   "source": [
    "sns.stripplot(x=accounts_sample.bankrupt, y=accounts_sample.balance_assets_fiscal_year);"
   ]
  },
  {
   "cell_type": "markdown",
   "id": "d396846f-069e-466f-9235-b9d4d7b9f19e",
   "metadata": {},
   "source": [
    "Значения, равные нулю преобладают во всех трех признаках и среди банкротов и не банкротов. Но среди долгосрочных обязательств и активах на начало года у банкротов практически все значения - нули."
   ]
  },
  {
   "cell_type": "code",
   "execution_count": 21,
   "id": "2558365d-6716-4ac7-afbb-3627c3909ab1",
   "metadata": {},
   "outputs": [
    {
     "data": {
      "image/png": "[encoded data removed]",
      "text/plain": [
       "<Figure size 1008x432 with 1 Axes>"
      ]
     },
     "metadata": {},
     "output_type": "display_data"
    }
   ],
   "source": [
    "sns.regplot(x=accounts_sample.short_term_liabilities_fiscal_year, \n",
    "            y=accounts_sample.long_term_liabilities_fiscal_year,\n",
    "           );"
   ]
  },
  {
   "cell_type": "code",
   "execution_count": 22,
   "id": "ea0c2e36-2c4a-483b-aacd-73aa3f75d50f",
   "metadata": {},
   "outputs": [
    {
     "data": {
      "image/png": "[encoded data removed]",
      "text/plain": [
       "<Figure size 1008x432 with 1 Axes>"
      ]
     },
     "metadata": {},
     "output_type": "display_data"
    }
   ],
   "source": [
    "sns.countplot(x=accounts_sample.year.groupby(accounts_sample.inn).count().values).set(\n",
    "    xlabel='Сколько лет есть данные на фирму', ylabel='Количество');"
   ]
  },
  {
   "cell_type": "code",
   "execution_count": 23,
   "id": "22da6fcb-2a0f-4d2c-b46c-900c58292ac2",
   "metadata": {},
   "outputs": [
    {
     "data": {
      "image/png": "[encoded data removed]",
      "text/plain": [
       "<Figure size 1008x432 with 1 Axes>"
      ]
     },
     "metadata": {},
     "output_type": "display_data"
    }
   ],
   "source": [
    "sns.barplot(x=accounts_sample.year.groupby(accounts_sample.inn).count(),\n",
    "            y=accounts_sample.bankrupt.groupby(accounts_sample.inn).mean()\n",
    "           ).set(ylabel='Доля банкротств', xlabel='Сколько лет есть данные на фирму');"
   ]
  },
  {
   "cell_type": "markdown",
   "id": "cedae521-07cf-4e30-8c44-094f27618c07",
   "metadata": {},
   "source": [
    "Соберем из cases_dir файлов с судебными процессами датафрейм, каждый объект будет иметь вид:\n",
    "    \n",
    "    ИНН, год процесса, результат процесса, сумма иска, валюта, тип дела"
   ]
  },
  {
   "cell_type": "code",
   "execution_count": 25,
   "id": "6bfcf8b8-5b4a-4c71-a429-22c6d242be70",
   "metadata": {},
   "outputs": [],
   "source": [
    "columns = ['inn', 'year', 'result', 'money', 'currency', 'case_type']\n",
    "df_cases = pd.DataFrame(columns=columns)\n",
    "\n",
    "for file in os.listdir(cases_dir):\n",
    "    if file.endswith('.pkl'):\n",
    "        with open(os.path.join(cases_dir, file) , 'rb') as f:\n",
    "            dict = pkl.load(f)\n",
    "        inn = dict['inn']\n",
    "        \n",
    "        for case in dict['cases_list']:\n",
    "            year = case['caseDate'][:4]\n",
    "            result = case['resultType']\n",
    "            money = case['sum']\n",
    "            currency = case['currency']\n",
    "            for side in case['case_sides']:\n",
    "                if str(inn) in side['INN']:\n",
    "                    case_type = side['type']\n",
    "\n",
    "            line = pd.DataFrame([[inn, year, result, money, currency, case_type]], columns=columns)\n",
    "            df_cases = pd.concat([df_cases, line], axis=0)"
   ]
  },
  {
   "cell_type": "code",
   "execution_count": 26,
   "id": "50b9fd1d-892d-4c84-898b-53ce7ecc61b6",
   "metadata": {},
   "outputs": [],
   "source": [
    "df_cases[['inn', 'year', 'case_type']] = df_cases[['inn', 'year', 'case_type']].astype('int64')\n",
    "df_cases.set_index(np.arange(len(df_cases)), inplace=True)"
   ]
  },
  {
   "cell_type": "code",
   "execution_count": 27,
   "id": "8a842706-84be-4b6e-aa04-837b6609fd2a",
   "metadata": {},
   "outputs": [
    {
     "name": "stdout",
     "output_type": "stream",
     "text": [
      "<class 'pandas.core.frame.DataFrame'>\n",
      "Int64Index: 8042 entries, 0 to 8041\n",
      "Data columns (total 6 columns):\n",
      " #   Column     Non-Null Count  Dtype  \n",
      "---  ------     --------------  -----  \n",
      " 0   inn        8042 non-null   int64  \n",
      " 1   year       8042 non-null   int64  \n",
      " 2   result     8042 non-null   object \n",
      " 3   money      8042 non-null   float64\n",
      " 4   currency   8042 non-null   object \n",
      " 5   case_type  8042 non-null   int64  \n",
      "dtypes: float64(1), int64(3), object(2)\n",
      "memory usage: 439.8+ KB\n"
     ]
    }
   ],
   "source": [
    "df_cases.info()"
   ]
  },
  {
   "cell_type": "code",
   "execution_count": 28,
   "id": "a407ad7e-6a07-4314-849d-544aaca5fd25",
   "metadata": {},
   "outputs": [
    {
     "data": {
      "text/html": [
       "<div>\n",
       "<style scoped>\n",
       "    .dataframe tbody tr th:only-of-type {\n",
       "        vertical-align: middle;\n",
       "    }\n",
       "\n",
       "    .dataframe tbody tr th {\n",
       "        vertical-align: top;\n",
       "    }\n",
       "\n",
       "    .dataframe thead th {\n",
       "        text-align: right;\n",
       "    }\n",
       "</style>\n",
       "<table border=\"1\" class=\"dataframe\">\n",
       "  <thead>\n",
       "    <tr style=\"text-align: right;\">\n",
       "      <th></th>\n",
       "      <th>inn</th>\n",
       "      <th>year</th>\n",
       "      <th>result</th>\n",
       "      <th>money</th>\n",
       "      <th>currency</th>\n",
       "      <th>case_type</th>\n",
       "    </tr>\n",
       "  </thead>\n",
       "  <tbody>\n",
       "    <tr>\n",
       "      <th>0</th>\n",
       "      <td>1001003743</td>\n",
       "      <td>2020</td>\n",
       "      <td>Частично выиграно</td>\n",
       "      <td>1459183.00</td>\n",
       "      <td>643</td>\n",
       "      <td>0</td>\n",
       "    </tr>\n",
       "    <tr>\n",
       "      <th>1</th>\n",
       "      <td>1001003743</td>\n",
       "      <td>2014</td>\n",
       "      <td>Не удалось определить</td>\n",
       "      <td>79200.00</td>\n",
       "      <td>643</td>\n",
       "      <td>0</td>\n",
       "    </tr>\n",
       "    <tr>\n",
       "      <th>2</th>\n",
       "      <td>1001003743</td>\n",
       "      <td>2010</td>\n",
       "      <td>Выиграно</td>\n",
       "      <td>0.00</td>\n",
       "      <td>643</td>\n",
       "      <td>0</td>\n",
       "    </tr>\n",
       "    <tr>\n",
       "      <th>3</th>\n",
       "      <td>1001003743</td>\n",
       "      <td>2010</td>\n",
       "      <td>Не удалось определить</td>\n",
       "      <td>0.00</td>\n",
       "      <td>643</td>\n",
       "      <td>0</td>\n",
       "    </tr>\n",
       "    <tr>\n",
       "      <th>4</th>\n",
       "      <td>1020010136</td>\n",
       "      <td>2020</td>\n",
       "      <td>Не удалось определить</td>\n",
       "      <td>17302.73</td>\n",
       "      <td>643</td>\n",
       "      <td>1</td>\n",
       "    </tr>\n",
       "  </tbody>\n",
       "</table>\n",
       "</div>"
      ],
      "text/plain": [
       "          inn  year                 result       money currency  case_type\n",
       "0  1001003743  2020      Частично выиграно  1459183.00      643          0\n",
       "1  1001003743  2014  Не удалось определить    79200.00      643          0\n",
       "2  1001003743  2010               Выиграно        0.00      643          0\n",
       "3  1001003743  2010  Не удалось определить        0.00      643          0\n",
       "4  1020010136  2020  Не удалось определить    17302.73      643          1"
      ]
     },
     "execution_count": 28,
     "metadata": {},
     "output_type": "execute_result"
    }
   ],
   "source": [
    "df_cases.head()"
   ]
  },
  {
   "cell_type": "code",
   "execution_count": 29,
   "id": "8f7e81cc-7f8a-4f65-af44-deebcd90a445",
   "metadata": {},
   "outputs": [
    {
     "data": {
      "text/plain": [
       "643    8042\n",
       "Name: currency, dtype: int64"
      ]
     },
     "execution_count": 29,
     "metadata": {},
     "output_type": "execute_result"
    }
   ],
   "source": [
    "df_cases.currency.value_counts()"
   ]
  },
  {
   "cell_type": "code",
   "execution_count": 30,
   "id": "69d76f5e-29a5-42cb-89c6-157fb3390116",
   "metadata": {},
   "outputs": [],
   "source": [
    "# Все иски в рублях, можно дропнуть колонку.df_cases\n",
    "df_cases.drop('currency', axis=1, inplace=True)"
   ]
  },
  {
   "cell_type": "code",
   "execution_count": 31,
   "id": "aefe9d19-cd6b-4fd2-848e-06c9a5085f93",
   "metadata": {},
   "outputs": [
    {
     "data": {
      "text/plain": [
       "Не удалось определить                                          4335\n",
       "Проиграно                                                      1417\n",
       "Выиграно                                                        911\n",
       "Частично проиграно                                              264\n",
       "Не выиграно                                                     244\n",
       "Частично выиграно                                               233\n",
       "Не проиграно                                                    229\n",
       "Иск полностью удовлетворен                                      200\n",
       "В иске отказано полностью                                       122\n",
       "Иск частично удовлетворен                                        40\n",
       "Утверждено мировое соглашение                                    25\n",
       "Иск не рассмотрен                                                16\n",
       "Прекращено производство по делу                                   3\n",
       "Иск полностью удовлетворен, встречный частично удовлетворен       1\n",
       "Иск частично удовлетворен, встречный не удовлетворен              1\n",
       "В иске отказано частично                                          1\n",
       "Name: result, dtype: int64"
      ]
     },
     "execution_count": 31,
     "metadata": {},
     "output_type": "execute_result"
    }
   ],
   "source": [
    "df_cases.result.value_counts()"
   ]
  },
  {
   "cell_type": "code",
   "execution_count": 32,
   "id": "adf89298-9158-416f-899b-faa9c9989c76",
   "metadata": {},
   "outputs": [],
   "source": [
    "def result_process(line):\n",
    "    \"\"\"\n",
    "    Принимает на вход текстовое описание результата процесса,\n",
    "    возвращает 1 в случае полного\\частичного удовлетворения,\n",
    "    0 в обратном случае, -1 в случае, когда результат неизвестен\n",
    "    \"\"\"\n",
    "    unkn = {'Не удалось определить', 'Иск не рассмотрен', 'Прекращено производство по делу', 'Утверждено мировое соглашение'}\n",
    "    loose = {'Проиграно', 'Частично проиграно', 'Не выиграно', 'В иске отказано полностью',}\n",
    "    win = {'Выиграно', 'Частично выиграно', 'Не проиграно', 'Иск полностью удовлетворен', 'Иск частично удовлетворен', 'В иске отказано частично',\n",
    "          'Иск полностью удовлетворен, встречный частично удовлетворен', 'Иск частично удовлетворен, встречный не удовлетворен'}\n",
    "    \n",
    "    if line in unkn:\n",
    "        return -1\n",
    "    if line in loose:\n",
    "        return 0\n",
    "    if line in win:\n",
    "        return 1\n",
    "    \n",
    "    return 0"
   ]
  },
  {
   "cell_type": "code",
   "execution_count": 33,
   "id": "046f541e-2e7e-45d2-a4df-e64dfc9adcab",
   "metadata": {},
   "outputs": [],
   "source": [
    "df_cases.result = df_cases.result.apply(result_process)"
   ]
  },
  {
   "cell_type": "code",
   "execution_count": 34,
   "id": "e39ffbc1-0b6e-46e8-bf62-c1a336c45bfb",
   "metadata": {},
   "outputs": [
    {
     "data": {
      "text/html": [
       "<div>\n",
       "<style scoped>\n",
       "    .dataframe tbody tr th:only-of-type {\n",
       "        vertical-align: middle;\n",
       "    }\n",
       "\n",
       "    .dataframe tbody tr th {\n",
       "        vertical-align: top;\n",
       "    }\n",
       "\n",
       "    .dataframe thead th {\n",
       "        text-align: right;\n",
       "    }\n",
       "</style>\n",
       "<table border=\"1\" class=\"dataframe\">\n",
       "  <thead>\n",
       "    <tr style=\"text-align: right;\">\n",
       "      <th></th>\n",
       "      <th>inn</th>\n",
       "      <th>year</th>\n",
       "      <th>result</th>\n",
       "      <th>money</th>\n",
       "      <th>case_type</th>\n",
       "    </tr>\n",
       "  </thead>\n",
       "  <tbody>\n",
       "    <tr>\n",
       "      <th>0</th>\n",
       "      <td>1001003743</td>\n",
       "      <td>2020</td>\n",
       "      <td>1</td>\n",
       "      <td>1459183.00</td>\n",
       "      <td>0</td>\n",
       "    </tr>\n",
       "    <tr>\n",
       "      <th>1</th>\n",
       "      <td>1001003743</td>\n",
       "      <td>2014</td>\n",
       "      <td>-1</td>\n",
       "      <td>79200.00</td>\n",
       "      <td>0</td>\n",
       "    </tr>\n",
       "    <tr>\n",
       "      <th>2</th>\n",
       "      <td>1001003743</td>\n",
       "      <td>2010</td>\n",
       "      <td>1</td>\n",
       "      <td>0.00</td>\n",
       "      <td>0</td>\n",
       "    </tr>\n",
       "    <tr>\n",
       "      <th>3</th>\n",
       "      <td>1001003743</td>\n",
       "      <td>2010</td>\n",
       "      <td>-1</td>\n",
       "      <td>0.00</td>\n",
       "      <td>0</td>\n",
       "    </tr>\n",
       "    <tr>\n",
       "      <th>4</th>\n",
       "      <td>1020010136</td>\n",
       "      <td>2020</td>\n",
       "      <td>-1</td>\n",
       "      <td>17302.73</td>\n",
       "      <td>1</td>\n",
       "    </tr>\n",
       "  </tbody>\n",
       "</table>\n",
       "</div>"
      ],
      "text/plain": [
       "          inn  year  result       money  case_type\n",
       "0  1001003743  2020       1  1459183.00          0\n",
       "1  1001003743  2014      -1    79200.00          0\n",
       "2  1001003743  2010       1        0.00          0\n",
       "3  1001003743  2010      -1        0.00          0\n",
       "4  1020010136  2020      -1    17302.73          1"
      ]
     },
     "execution_count": 34,
     "metadata": {},
     "output_type": "execute_result"
    }
   ],
   "source": [
    "df_cases.head()"
   ]
  },
  {
   "cell_type": "markdown",
   "id": "c5f9ca5d-c2ed-4ad7-bb3c-1dc6a83884aa",
   "metadata": {},
   "source": [
    "Создадим новые признаки, для каждого ИНН в каждом году:\n",
    "\n",
    "    case_0_count - количество судебных дел, где ИНН является истцом\n",
    "    \n",
    "    case_1_count - количество судебных дел, где ИНН является ответчиком\n",
    "    \n",
    "    case_0_result_1_count - case_0 где иск удовлетворен\n",
    "    \n",
    "    case_0_result_0_count - case_0 где не удовлетворен\n",
    "    \n",
    "    case_1_result_1_count - case_1 удовл\n",
    "    \n",
    "    case_1_result_0_count - case_1 не удовл"
   ]
  },
  {
   "cell_type": "code",
   "execution_count": 35,
   "id": "ab14be68-bc55-40e9-9918-fea035dae6e9",
   "metadata": {},
   "outputs": [],
   "source": [
    "tmp = df_cases.groupby(['inn', 'year'])['case_type'].value_counts()\n",
    "\n",
    "for (inn, year, case_type), count in zip(tmp.index, tmp.values):\n",
    "    if case_type in (0, 1):\n",
    "        idx = accounts_sample[(accounts_sample.inn == inn) & (accounts_sample.year == year)].index\n",
    "        if idx is not None:\n",
    "            accounts_sample.loc[idx, 'case_' + str(case_type)+'_count'] = count"
   ]
  },
  {
   "cell_type": "code",
   "execution_count": 36,
   "id": "3c9d7d65-f148-420c-9d87-9be9c5b4b1b9",
   "metadata": {},
   "outputs": [],
   "source": [
    "tmp = df_cases.groupby(['inn', 'year', 'case_type'])['result'].value_counts()\n",
    "for (inn, year, case_type, case_result), count in zip(tmp.index, tmp.values):\n",
    "    if case_type in (0, 1) and case_result in (0, 1):\n",
    "        idx = accounts_sample[(accounts_sample.inn == inn) & (accounts_sample.year == year)].index\n",
    "        if idx is not None:\n",
    "            accounts_sample.loc[idx, 'case_'+str(case_type)+'_result_'+str(case_result)+'_count'] = count"
   ]
  },
  {
   "cell_type": "code",
   "execution_count": 37,
   "id": "c7b6ed06-9408-41a2-b713-76a02af6e94b",
   "metadata": {},
   "outputs": [
    {
     "data": {
      "text/html": [
       "<div>\n",
       "<style scoped>\n",
       "    .dataframe tbody tr th:only-of-type {\n",
       "        vertical-align: middle;\n",
       "    }\n",
       "\n",
       "    .dataframe tbody tr th {\n",
       "        vertical-align: top;\n",
       "    }\n",
       "\n",
       "    .dataframe thead th {\n",
       "        text-align: right;\n",
       "    }\n",
       "</style>\n",
       "<table border=\"1\" class=\"dataframe\">\n",
       "  <thead>\n",
       "    <tr style=\"text-align: right;\">\n",
       "      <th></th>\n",
       "      <th>inn</th>\n",
       "      <th>year</th>\n",
       "      <th>long_term_liabilities_fiscal_year</th>\n",
       "      <th>short_term_liabilities_fiscal_year</th>\n",
       "      <th>balance_assets_fiscal_year</th>\n",
       "      <th>bankrupt</th>\n",
       "      <th>case_0_count</th>\n",
       "      <th>case_1_count</th>\n",
       "      <th>case_0_result_1_count</th>\n",
       "      <th>case_0_result_0_count</th>\n",
       "      <th>case_1_result_0_count</th>\n",
       "      <th>case_1_result_1_count</th>\n",
       "    </tr>\n",
       "  </thead>\n",
       "  <tbody>\n",
       "    <tr>\n",
       "      <th>0</th>\n",
       "      <td>2.465003e+09</td>\n",
       "      <td>2012.0</td>\n",
       "      <td>0.0</td>\n",
       "      <td>113756000.0</td>\n",
       "      <td>122240000.0</td>\n",
       "      <td>0.0</td>\n",
       "      <td>3.0</td>\n",
       "      <td>1.0</td>\n",
       "      <td>NaN</td>\n",
       "      <td>1.0</td>\n",
       "      <td>1.0</td>\n",
       "      <td>NaN</td>\n",
       "    </tr>\n",
       "    <tr>\n",
       "      <th>1</th>\n",
       "      <td>3.505003e+09</td>\n",
       "      <td>2012.0</td>\n",
       "      <td>21461000.0</td>\n",
       "      <td>20211000.0</td>\n",
       "      <td>81132000.0</td>\n",
       "      <td>0.0</td>\n",
       "      <td>NaN</td>\n",
       "      <td>1.0</td>\n",
       "      <td>NaN</td>\n",
       "      <td>NaN</td>\n",
       "      <td>NaN</td>\n",
       "      <td>NaN</td>\n",
       "    </tr>\n",
       "    <tr>\n",
       "      <th>2</th>\n",
       "      <td>3.517003e+09</td>\n",
       "      <td>2012.0</td>\n",
       "      <td>0.0</td>\n",
       "      <td>0.0</td>\n",
       "      <td>48063000.0</td>\n",
       "      <td>0.0</td>\n",
       "      <td>1.0</td>\n",
       "      <td>1.0</td>\n",
       "      <td>NaN</td>\n",
       "      <td>NaN</td>\n",
       "      <td>NaN</td>\n",
       "      <td>NaN</td>\n",
       "    </tr>\n",
       "    <tr>\n",
       "      <th>3</th>\n",
       "      <td>5.501079e+09</td>\n",
       "      <td>2012.0</td>\n",
       "      <td>0.0</td>\n",
       "      <td>288763000.0</td>\n",
       "      <td>419522000.0</td>\n",
       "      <td>0.0</td>\n",
       "      <td>6.0</td>\n",
       "      <td>1.0</td>\n",
       "      <td>1.0</td>\n",
       "      <td>3.0</td>\n",
       "      <td>NaN</td>\n",
       "      <td>1.0</td>\n",
       "    </tr>\n",
       "    <tr>\n",
       "      <th>4</th>\n",
       "      <td>6.140020e+09</td>\n",
       "      <td>2012.0</td>\n",
       "      <td>0.0</td>\n",
       "      <td>0.0</td>\n",
       "      <td>11089000.0</td>\n",
       "      <td>0.0</td>\n",
       "      <td>NaN</td>\n",
       "      <td>NaN</td>\n",
       "      <td>NaN</td>\n",
       "      <td>NaN</td>\n",
       "      <td>NaN</td>\n",
       "      <td>NaN</td>\n",
       "    </tr>\n",
       "  </tbody>\n",
       "</table>\n",
       "</div>"
      ],
      "text/plain": [
       "            inn    year  long_term_liabilities_fiscal_year  \\\n",
       "0  2.465003e+09  2012.0                                0.0   \n",
       "1  3.505003e+09  2012.0                         21461000.0   \n",
       "2  3.517003e+09  2012.0                                0.0   \n",
       "3  5.501079e+09  2012.0                                0.0   \n",
       "4  6.140020e+09  2012.0                                0.0   \n",
       "\n",
       "   short_term_liabilities_fiscal_year  balance_assets_fiscal_year  bankrupt  \\\n",
       "0                         113756000.0                 122240000.0       0.0   \n",
       "1                          20211000.0                  81132000.0       0.0   \n",
       "2                                 0.0                  48063000.0       0.0   \n",
       "3                         288763000.0                 419522000.0       0.0   \n",
       "4                                 0.0                  11089000.0       0.0   \n",
       "\n",
       "   case_0_count  case_1_count  case_0_result_1_count  case_0_result_0_count  \\\n",
       "0           3.0           1.0                    NaN                    1.0   \n",
       "1           NaN           1.0                    NaN                    NaN   \n",
       "2           1.0           1.0                    NaN                    NaN   \n",
       "3           6.0           1.0                    1.0                    3.0   \n",
       "4           NaN           NaN                    NaN                    NaN   \n",
       "\n",
       "   case_1_result_0_count  case_1_result_1_count  \n",
       "0                    1.0                    NaN  \n",
       "1                    NaN                    NaN  \n",
       "2                    NaN                    NaN  \n",
       "3                    NaN                    1.0  \n",
       "4                    NaN                    NaN  "
      ]
     },
     "execution_count": 37,
     "metadata": {},
     "output_type": "execute_result"
    }
   ],
   "source": [
    "accounts_sample.head()"
   ]
  },
  {
   "cell_type": "code",
   "execution_count": 38,
   "id": "e513a04f-38bc-419c-bb37-eb3c5708b137",
   "metadata": {},
   "outputs": [],
   "source": [
    "# заполним нулями все остальные значения\n",
    "accounts_sample.fillna(0, inplace=True)"
   ]
  },
  {
   "cell_type": "code",
   "execution_count": 39,
   "id": "e7470d5e-7a2c-46b5-921a-4af69cccb07c",
   "metadata": {},
   "outputs": [],
   "source": [
    "accounts_sample.year = accounts_sample.year.astype('int64').astype('str')\n",
    "accounts_sample.inn = accounts_sample.inn.astype('int64').astype('str')"
   ]
  },
  {
   "cell_type": "code",
   "execution_count": 40,
   "id": "a66d4f7b-b8db-4332-bd93-846b3380e18e",
   "metadata": {},
   "outputs": [
    {
     "data": {
      "text/html": [
       "<div>\n",
       "<style scoped>\n",
       "    .dataframe tbody tr th:only-of-type {\n",
       "        vertical-align: middle;\n",
       "    }\n",
       "\n",
       "    .dataframe tbody tr th {\n",
       "        vertical-align: top;\n",
       "    }\n",
       "\n",
       "    .dataframe thead th {\n",
       "        text-align: right;\n",
       "    }\n",
       "</style>\n",
       "<table border=\"1\" class=\"dataframe\">\n",
       "  <thead>\n",
       "    <tr style=\"text-align: right;\">\n",
       "      <th></th>\n",
       "      <th>inn</th>\n",
       "      <th>year</th>\n",
       "      <th>long_term_liabilities_fiscal_year</th>\n",
       "      <th>short_term_liabilities_fiscal_year</th>\n",
       "      <th>balance_assets_fiscal_year</th>\n",
       "      <th>bankrupt</th>\n",
       "      <th>case_0_count</th>\n",
       "      <th>case_1_count</th>\n",
       "      <th>case_0_result_1_count</th>\n",
       "      <th>case_0_result_0_count</th>\n",
       "      <th>case_1_result_0_count</th>\n",
       "      <th>case_1_result_1_count</th>\n",
       "    </tr>\n",
       "  </thead>\n",
       "  <tbody>\n",
       "    <tr>\n",
       "      <th>0</th>\n",
       "      <td>2465002653</td>\n",
       "      <td>2012</td>\n",
       "      <td>0.0</td>\n",
       "      <td>113756000.0</td>\n",
       "      <td>122240000.0</td>\n",
       "      <td>0.0</td>\n",
       "      <td>3.0</td>\n",
       "      <td>1.0</td>\n",
       "      <td>0.0</td>\n",
       "      <td>1.0</td>\n",
       "      <td>1.0</td>\n",
       "      <td>0.0</td>\n",
       "    </tr>\n",
       "    <tr>\n",
       "      <th>1</th>\n",
       "      <td>3505003270</td>\n",
       "      <td>2012</td>\n",
       "      <td>21461000.0</td>\n",
       "      <td>20211000.0</td>\n",
       "      <td>81132000.0</td>\n",
       "      <td>0.0</td>\n",
       "      <td>0.0</td>\n",
       "      <td>1.0</td>\n",
       "      <td>0.0</td>\n",
       "      <td>0.0</td>\n",
       "      <td>0.0</td>\n",
       "      <td>0.0</td>\n",
       "    </tr>\n",
       "    <tr>\n",
       "      <th>2</th>\n",
       "      <td>3517003250</td>\n",
       "      <td>2012</td>\n",
       "      <td>0.0</td>\n",
       "      <td>0.0</td>\n",
       "      <td>48063000.0</td>\n",
       "      <td>0.0</td>\n",
       "      <td>1.0</td>\n",
       "      <td>1.0</td>\n",
       "      <td>0.0</td>\n",
       "      <td>0.0</td>\n",
       "      <td>0.0</td>\n",
       "      <td>0.0</td>\n",
       "    </tr>\n",
       "    <tr>\n",
       "      <th>3</th>\n",
       "      <td>5501078737</td>\n",
       "      <td>2012</td>\n",
       "      <td>0.0</td>\n",
       "      <td>288763000.0</td>\n",
       "      <td>419522000.0</td>\n",
       "      <td>0.0</td>\n",
       "      <td>6.0</td>\n",
       "      <td>1.0</td>\n",
       "      <td>1.0</td>\n",
       "      <td>3.0</td>\n",
       "      <td>0.0</td>\n",
       "      <td>1.0</td>\n",
       "    </tr>\n",
       "    <tr>\n",
       "      <th>4</th>\n",
       "      <td>6140019517</td>\n",
       "      <td>2012</td>\n",
       "      <td>0.0</td>\n",
       "      <td>0.0</td>\n",
       "      <td>11089000.0</td>\n",
       "      <td>0.0</td>\n",
       "      <td>0.0</td>\n",
       "      <td>0.0</td>\n",
       "      <td>0.0</td>\n",
       "      <td>0.0</td>\n",
       "      <td>0.0</td>\n",
       "      <td>0.0</td>\n",
       "    </tr>\n",
       "    <tr>\n",
       "      <th>...</th>\n",
       "      <td>...</td>\n",
       "      <td>...</td>\n",
       "      <td>...</td>\n",
       "      <td>...</td>\n",
       "      <td>...</td>\n",
       "      <td>...</td>\n",
       "      <td>...</td>\n",
       "      <td>...</td>\n",
       "      <td>...</td>\n",
       "      <td>...</td>\n",
       "      <td>...</td>\n",
       "      <td>...</td>\n",
       "    </tr>\n",
       "    <tr>\n",
       "      <th>1030</th>\n",
       "      <td>7842353970</td>\n",
       "      <td>2020</td>\n",
       "      <td>0.0</td>\n",
       "      <td>2548000.0</td>\n",
       "      <td>16411000.0</td>\n",
       "      <td>0.0</td>\n",
       "      <td>0.0</td>\n",
       "      <td>2.0</td>\n",
       "      <td>0.0</td>\n",
       "      <td>0.0</td>\n",
       "      <td>0.0</td>\n",
       "      <td>0.0</td>\n",
       "    </tr>\n",
       "    <tr>\n",
       "      <th>1031</th>\n",
       "      <td>8908001998</td>\n",
       "      <td>2019</td>\n",
       "      <td>0.0</td>\n",
       "      <td>8636000.0</td>\n",
       "      <td>130731000.0</td>\n",
       "      <td>0.0</td>\n",
       "      <td>0.0</td>\n",
       "      <td>0.0</td>\n",
       "      <td>0.0</td>\n",
       "      <td>0.0</td>\n",
       "      <td>0.0</td>\n",
       "      <td>0.0</td>\n",
       "    </tr>\n",
       "    <tr>\n",
       "      <th>1032</th>\n",
       "      <td>8908001998</td>\n",
       "      <td>2020</td>\n",
       "      <td>0.0</td>\n",
       "      <td>14318000.0</td>\n",
       "      <td>128891000.0</td>\n",
       "      <td>0.0</td>\n",
       "      <td>0.0</td>\n",
       "      <td>2.0</td>\n",
       "      <td>0.0</td>\n",
       "      <td>0.0</td>\n",
       "      <td>1.0</td>\n",
       "      <td>0.0</td>\n",
       "    </tr>\n",
       "    <tr>\n",
       "      <th>1033</th>\n",
       "      <td>9102060446</td>\n",
       "      <td>2019</td>\n",
       "      <td>6000000.0</td>\n",
       "      <td>229769000.0</td>\n",
       "      <td>308868000.0</td>\n",
       "      <td>0.0</td>\n",
       "      <td>0.0</td>\n",
       "      <td>0.0</td>\n",
       "      <td>0.0</td>\n",
       "      <td>0.0</td>\n",
       "      <td>0.0</td>\n",
       "      <td>0.0</td>\n",
       "    </tr>\n",
       "    <tr>\n",
       "      <th>1034</th>\n",
       "      <td>9102060446</td>\n",
       "      <td>2020</td>\n",
       "      <td>6000000.0</td>\n",
       "      <td>198088000.0</td>\n",
       "      <td>273486000.0</td>\n",
       "      <td>0.0</td>\n",
       "      <td>0.0</td>\n",
       "      <td>1.0</td>\n",
       "      <td>0.0</td>\n",
       "      <td>0.0</td>\n",
       "      <td>1.0</td>\n",
       "      <td>0.0</td>\n",
       "    </tr>\n",
       "  </tbody>\n",
       "</table>\n",
       "<p>1035 rows × 12 columns</p>\n",
       "</div>"
      ],
      "text/plain": [
       "             inn  year  long_term_liabilities_fiscal_year  \\\n",
       "0     2465002653  2012                                0.0   \n",
       "1     3505003270  2012                         21461000.0   \n",
       "2     3517003250  2012                                0.0   \n",
       "3     5501078737  2012                                0.0   \n",
       "4     6140019517  2012                                0.0   \n",
       "...          ...   ...                                ...   \n",
       "1030  7842353970  2020                                0.0   \n",
       "1031  8908001998  2019                                0.0   \n",
       "1032  8908001998  2020                                0.0   \n",
       "1033  9102060446  2019                          6000000.0   \n",
       "1034  9102060446  2020                          6000000.0   \n",
       "\n",
       "      short_term_liabilities_fiscal_year  balance_assets_fiscal_year  \\\n",
       "0                            113756000.0                 122240000.0   \n",
       "1                             20211000.0                  81132000.0   \n",
       "2                                    0.0                  48063000.0   \n",
       "3                            288763000.0                 419522000.0   \n",
       "4                                    0.0                  11089000.0   \n",
       "...                                  ...                         ...   \n",
       "1030                           2548000.0                  16411000.0   \n",
       "1031                           8636000.0                 130731000.0   \n",
       "1032                          14318000.0                 128891000.0   \n",
       "1033                         229769000.0                 308868000.0   \n",
       "1034                         198088000.0                 273486000.0   \n",
       "\n",
       "      bankrupt  case_0_count  case_1_count  case_0_result_1_count  \\\n",
       "0          0.0           3.0           1.0                    0.0   \n",
       "1          0.0           0.0           1.0                    0.0   \n",
       "2          0.0           1.0           1.0                    0.0   \n",
       "3          0.0           6.0           1.0                    1.0   \n",
       "4          0.0           0.0           0.0                    0.0   \n",
       "...        ...           ...           ...                    ...   \n",
       "1030       0.0           0.0           2.0                    0.0   \n",
       "1031       0.0           0.0           0.0                    0.0   \n",
       "1032       0.0           0.0           2.0                    0.0   \n",
       "1033       0.0           0.0           0.0                    0.0   \n",
       "1034       0.0           0.0           1.0                    0.0   \n",
       "\n",
       "      case_0_result_0_count  case_1_result_0_count  case_1_result_1_count  \n",
       "0                       1.0                    1.0                    0.0  \n",
       "1                       0.0                    0.0                    0.0  \n",
       "2                       0.0                    0.0                    0.0  \n",
       "3                       3.0                    0.0                    1.0  \n",
       "4                       0.0                    0.0                    0.0  \n",
       "...                     ...                    ...                    ...  \n",
       "1030                    0.0                    0.0                    0.0  \n",
       "1031                    0.0                    0.0                    0.0  \n",
       "1032                    0.0                    1.0                    0.0  \n",
       "1033                    0.0                    0.0                    0.0  \n",
       "1034                    0.0                    1.0                    0.0  \n",
       "\n",
       "[1035 rows x 12 columns]"
      ]
     },
     "execution_count": 40,
     "metadata": {},
     "output_type": "execute_result"
    }
   ],
   "source": [
    "accounts_sample"
   ]
  },
  {
   "cell_type": "code",
   "execution_count": 41,
   "id": "89e152ea-9657-44ff-94b7-26de88b1df11",
   "metadata": {},
   "outputs": [
    {
     "name": "stdout",
     "output_type": "stream",
     "text": [
      "<class 'pandas.core.frame.DataFrame'>\n",
      "Int64Index: 1035 entries, 0 to 1034\n",
      "Data columns (total 12 columns):\n",
      " #   Column                              Non-Null Count  Dtype  \n",
      "---  ------                              --------------  -----  \n",
      " 0   inn                                 1035 non-null   object \n",
      " 1   year                                1035 non-null   object \n",
      " 2   long_term_liabilities_fiscal_year   1035 non-null   float64\n",
      " 3   short_term_liabilities_fiscal_year  1035 non-null   float64\n",
      " 4   balance_assets_fiscal_year          1035 non-null   float64\n",
      " 5   bankrupt                            1035 non-null   float64\n",
      " 6   case_0_count                        1035 non-null   float64\n",
      " 7   case_1_count                        1035 non-null   float64\n",
      " 8   case_0_result_1_count               1035 non-null   float64\n",
      " 9   case_0_result_0_count               1035 non-null   float64\n",
      " 10  case_1_result_0_count               1035 non-null   float64\n",
      " 11  case_1_result_1_count               1035 non-null   float64\n",
      "dtypes: float64(10), object(2)\n",
      "memory usage: 137.4+ KB\n"
     ]
    }
   ],
   "source": [
    "accounts_sample.info()"
   ]
  },
  {
   "cell_type": "markdown",
   "id": "2c2335e5-c9ca-4086-8c33-fb793e5d7a1a",
   "metadata": {},
   "source": [
    "Разобьем выборку на тренировочную 0.8 и валидационную 0.2.\n",
    "\n",
    "Т.к. наши данные идут по годам, чтобы не учиться на \"данных из будущего\", упорядочим данные по годам и в качестве валидационных данных возьмем более поздние года.\n"
   ]
  },
  {
   "cell_type": "code",
   "execution_count": 42,
   "id": "7bd7e245-4214-4423-9fbb-01eec1f3bb11",
   "metadata": {},
   "outputs": [],
   "source": [
    "# пробовал делать oversampling, он не зашел\n",
    "# split_idx = 4 * len(accounts_sample) // 5\n",
    "# oversample = 3\n",
    "\n",
    "# X_train = accounts_sample.sort_values(by=['year'])[:split_idx]\n",
    "# for i in range(oversample):\n",
    "#     X_train = pd.concat([X_train, X_train[X_train.bankrupt == 1]], axis=0)\n",
    "    \n",
    "# y_train = X_train['bankrupt']\n",
    "# X_train.drop('bankrupt', axis=1, inplace=True)"
   ]
  },
  {
   "cell_type": "code",
   "execution_count": 43,
   "id": "82a32c0d-f15c-467e-9231-941814821175",
   "metadata": {},
   "outputs": [],
   "source": [
    "split_idx = 4 * len(accounts_sample) // 5\n",
    "\n",
    "X_train = accounts_sample.sort_values(by=['year'])[:split_idx]\n",
    "y_train = X_train['bankrupt']\n",
    "X_train.drop('bankrupt', axis=1, inplace=True)\n",
    "\n",
    "X_val = accounts_sample.sort_values(by=['year'])[split_idx:]\n",
    "y_val = X_val['bankrupt']\n",
    "X_val.drop('bankrupt', axis=1, inplace=True)"
   ]
  },
  {
   "cell_type": "markdown",
   "id": "b268b1f6-360b-4ced-b84b-777715726eb3",
   "metadata": {},
   "source": [
    "В качестве модели возьмет catboost. На моей практике, градиентный бустинг лучше других моделей заходит в подобных задачах.\n",
    "\n",
    "Т.к. данные очень не сбалансированные, выберем ROC-AUC как основную метрику, но так же обратим внимание как на f1-score в целом, так и на precision и recall по отдельности."
   ]
  },
  {
   "cell_type": "code",
   "execution_count": 44,
   "id": "1213a357-c6aa-4770-8f2e-667fe98da6c8",
   "metadata": {},
   "outputs": [],
   "source": [
    "cat_cols = ['year', 'inn']\n",
    "cat = catboost.CatBoostClassifier(cat_features=cat_cols, eval_metric='AUC', random_seed=SEED)"
   ]
  },
  {
   "cell_type": "code",
   "execution_count": 45,
   "id": "47b69521-cd71-4133-8c33-6ec0f69462b5",
   "metadata": {},
   "outputs": [
    {
     "data": {
      "text/plain": [
       "<catboost.core.CatBoostClassifier at 0x284d6f39f88>"
      ]
     },
     "execution_count": 45,
     "metadata": {},
     "output_type": "execute_result"
    }
   ],
   "source": [
    "cat.fit(X_train, y_train, silent=True)"
   ]
  },
  {
   "cell_type": "code",
   "execution_count": 46,
   "id": "ece3d369-c71e-4fa2-b839-01cee8ec8750",
   "metadata": {},
   "outputs": [
    {
     "data": {
      "text/plain": [
       "0.815108759553204"
      ]
     },
     "execution_count": 46,
     "metadata": {},
     "output_type": "execute_result"
    }
   ],
   "source": [
    "preds = cat.predict_proba(X_val)[:, 1]\n",
    "roc_auc_score(y_val, preds)"
   ]
  },
  {
   "cell_type": "markdown",
   "id": "1b1371eb-3e3e-4cb4-9d77-1571bb6d49d6",
   "metadata": {},
   "source": [
    "Подбор параметров. Напишем свой гридсерч, чтобы учиться и валидироваться на отсортированных по годам данных."
   ]
  },
  {
   "cell_type": "code",
   "execution_count": 47,
   "id": "3336d026-ce54-45ed-a7cf-7681ef3a3d14",
   "metadata": {},
   "outputs": [],
   "source": [
    "learning_rate = [0.1, 0.5, 1]\n",
    "depth = [3, 6, 9]\n",
    "n_est = [40, 100, 200]\n",
    "l2_leaf_reg = [3, 6]\n",
    "\n",
    "cat_cols = ['year', 'inn']"
   ]
  },
  {
   "cell_type": "code",
   "execution_count": 48,
   "id": "4c6a8434-ae44-4a17-819c-182396406607",
   "metadata": {
    "collapsed": true,
    "jupyter": {
     "outputs_hidden": true
    },
    "tags": []
   },
   "outputs": [
    {
     "name": "stdout",
     "output_type": "stream",
     "text": [
      "ROC-AUC = {'learning_rate': 0.1, 'depth': 3, 'n_estimators': 40, 'l2_leaf_reg': 3} 0.8835978835978837\n",
      "ROC-AUC = {'learning_rate': 0.1, 'depth': 3, 'n_estimators': 40, 'l2_leaf_reg': 6} 0.8571428571428572\n",
      "ROC-AUC = {'learning_rate': 0.1, 'depth': 3, 'n_estimators': 100, 'l2_leaf_reg': 3} 0.8300999412110524\n",
      "ROC-AUC = {'learning_rate': 0.1, 'depth': 3, 'n_estimators': 100, 'l2_leaf_reg': 6} 0.8527336860670194\n",
      "ROC-AUC = {'learning_rate': 0.1, 'depth': 3, 'n_estimators': 200, 'l2_leaf_reg': 3} 0.8600823045267489\n",
      "ROC-AUC = {'learning_rate': 0.1, 'depth': 3, 'n_estimators': 200, 'l2_leaf_reg': 6} 0.8177542621987066\n",
      "ROC-AUC = {'learning_rate': 0.1, 'depth': 6, 'n_estimators': 40, 'l2_leaf_reg': 3} 0.8731628453850676\n",
      "ROC-AUC = {'learning_rate': 0.1, 'depth': 6, 'n_estimators': 40, 'l2_leaf_reg': 6} 0.8818342151675485\n",
      "ROC-AUC = {'learning_rate': 0.1, 'depth': 6, 'n_estimators': 100, 'l2_leaf_reg': 3} 0.871546149323927\n",
      "ROC-AUC = {'learning_rate': 0.1, 'depth': 6, 'n_estimators': 100, 'l2_leaf_reg': 6} 0.8403880070546736\n",
      "ROC-AUC = {'learning_rate': 0.1, 'depth': 6, 'n_estimators': 200, 'l2_leaf_reg': 3} 0.7639623750734862\n",
      "ROC-AUC = {'learning_rate': 0.1, 'depth': 6, 'n_estimators': 200, 'l2_leaf_reg': 6} 0.7792475014697237\n",
      "ROC-AUC = {'learning_rate': 0.1, 'depth': 9, 'n_estimators': 40, 'l2_leaf_reg': 3} 0.8627278071722516\n",
      "ROC-AUC = {'learning_rate': 0.1, 'depth': 9, 'n_estimators': 40, 'l2_leaf_reg': 6} 0.8788947677836567\n",
      "ROC-AUC = {'learning_rate': 0.1, 'depth': 9, 'n_estimators': 100, 'l2_leaf_reg': 3} 0.8109935332157555\n",
      "ROC-AUC = {'learning_rate': 0.1, 'depth': 9, 'n_estimators': 100, 'l2_leaf_reg': 6} 0.8821281599059376\n",
      "ROC-AUC = {'learning_rate': 0.1, 'depth': 9, 'n_estimators': 200, 'l2_leaf_reg': 3} 0.8015873015873016\n",
      "ROC-AUC = {'learning_rate': 0.1, 'depth': 9, 'n_estimators': 200, 'l2_leaf_reg': 6} 0.770135214579659\n",
      "ROC-AUC = {'learning_rate': 0.5, 'depth': 3, 'n_estimators': 40, 'l2_leaf_reg': 3} 0.8609641387419166\n",
      "ROC-AUC = {'learning_rate': 0.5, 'depth': 3, 'n_estimators': 40, 'l2_leaf_reg': 6} 0.8512639623750735\n",
      "ROC-AUC = {'learning_rate': 0.5, 'depth': 3, 'n_estimators': 100, 'l2_leaf_reg': 3} 0.8427395649617871\n",
      "ROC-AUC = {'learning_rate': 0.5, 'depth': 3, 'n_estimators': 100, 'l2_leaf_reg': 6} 0.8265726043503822\n",
      "ROC-AUC = {'learning_rate': 0.5, 'depth': 3, 'n_estimators': 200, 'l2_leaf_reg': 3} 0.7480893592004704\n",
      "ROC-AUC = {'learning_rate': 0.5, 'depth': 3, 'n_estimators': 200, 'l2_leaf_reg': 6} 0.7166372721928278\n",
      "ROC-AUC = {'learning_rate': 0.5, 'depth': 6, 'n_estimators': 40, 'l2_leaf_reg': 3} 0.803938859494415\n",
      "ROC-AUC = {'learning_rate': 0.5, 'depth': 6, 'n_estimators': 40, 'l2_leaf_reg': 6} 0.8174603174603176\n",
      "ROC-AUC = {'learning_rate': 0.5, 'depth': 6, 'n_estimators': 100, 'l2_leaf_reg': 3} 0.831275720164609\n",
      "ROC-AUC = {'learning_rate': 0.5, 'depth': 6, 'n_estimators': 100, 'l2_leaf_reg': 6} 0.7960023515579072\n",
      "ROC-AUC = {'learning_rate': 0.5, 'depth': 6, 'n_estimators': 200, 'l2_leaf_reg': 3} 0.7357436801881246\n",
      "ROC-AUC = {'learning_rate': 0.5, 'depth': 6, 'n_estimators': 200, 'l2_leaf_reg': 6} 0.757201646090535\n",
      "ROC-AUC = {'learning_rate': 0.5, 'depth': 9, 'n_estimators': 40, 'l2_leaf_reg': 3} 0.8395061728395061\n",
      "ROC-AUC = {'learning_rate': 0.5, 'depth': 9, 'n_estimators': 40, 'l2_leaf_reg': 6} 0.8577307466196356\n",
      "ROC-AUC = {'learning_rate': 0.5, 'depth': 9, 'n_estimators': 100, 'l2_leaf_reg': 3} 0.8156966490299824\n",
      "ROC-AUC = {'learning_rate': 0.5, 'depth': 9, 'n_estimators': 100, 'l2_leaf_reg': 6} 0.8565549676660789\n",
      "ROC-AUC = {'learning_rate': 0.5, 'depth': 9, 'n_estimators': 200, 'l2_leaf_reg': 3} 0.7616108171663728\n",
      "ROC-AUC = {'learning_rate': 0.5, 'depth': 9, 'n_estimators': 200, 'l2_leaf_reg': 6} 0.8115814226925339\n",
      "ROC-AUC = {'learning_rate': 1, 'depth': 3, 'n_estimators': 40, 'l2_leaf_reg': 3} 0.7422104644326867\n",
      "ROC-AUC = {'learning_rate': 1, 'depth': 3, 'n_estimators': 40, 'l2_leaf_reg': 6} 0.7472075249853027\n",
      "ROC-AUC = {'learning_rate': 1, 'depth': 3, 'n_estimators': 100, 'l2_leaf_reg': 3} 0.7178130511463845\n",
      "ROC-AUC = {'learning_rate': 1, 'depth': 3, 'n_estimators': 100, 'l2_leaf_reg': 6} 0.7433862433862434\n",
      "ROC-AUC = {'learning_rate': 1, 'depth': 3, 'n_estimators': 200, 'l2_leaf_reg': 3} 0.7713109935332159\n",
      "ROC-AUC = {'learning_rate': 1, 'depth': 3, 'n_estimators': 200, 'l2_leaf_reg': 6} 0.7607289829512052\n",
      "ROC-AUC = {'learning_rate': 1, 'depth': 6, 'n_estimators': 40, 'l2_leaf_reg': 3} 0.8242210464432687\n",
      "ROC-AUC = {'learning_rate': 1, 'depth': 6, 'n_estimators': 40, 'l2_leaf_reg': 6} 0.8159905937683715\n",
      "ROC-AUC = {'learning_rate': 1, 'depth': 6, 'n_estimators': 100, 'l2_leaf_reg': 3} 0.8265726043503822\n",
      "ROC-AUC = {'learning_rate': 1, 'depth': 6, 'n_estimators': 100, 'l2_leaf_reg': 6} 0.8292181069958848\n",
      "ROC-AUC = {'learning_rate': 1, 'depth': 6, 'n_estimators': 200, 'l2_leaf_reg': 3} 0.7624926513815402\n",
      "ROC-AUC = {'learning_rate': 1, 'depth': 6, 'n_estimators': 200, 'l2_leaf_reg': 6} 0.6252204585537918\n",
      "ROC-AUC = {'learning_rate': 1, 'depth': 9, 'n_estimators': 40, 'l2_leaf_reg': 3} 0.7983539094650206\n",
      "ROC-AUC = {'learning_rate': 1, 'depth': 9, 'n_estimators': 40, 'l2_leaf_reg': 6} 0.8057025279247503\n",
      "ROC-AUC = {'learning_rate': 1, 'depth': 9, 'n_estimators': 100, 'l2_leaf_reg': 3} 0.7807172251616696\n",
      "ROC-AUC = {'learning_rate': 1, 'depth': 9, 'n_estimators': 100, 'l2_leaf_reg': 6} 0.8080540858318637\n",
      "ROC-AUC = {'learning_rate': 1, 'depth': 9, 'n_estimators': 200, 'l2_leaf_reg': 3} 0.8330393885949442\n",
      "ROC-AUC = {'learning_rate': 1, 'depth': 9, 'n_estimators': 200, 'l2_leaf_reg': 6} 0.7527924750146973\n"
     ]
    }
   ],
   "source": [
    "roc = 0\n",
    "best_f1 = 0\n",
    "for lr in learning_rate:\n",
    "    for d in depth:\n",
    "        for n in n_est:\n",
    "            for l2 in l2_leaf_reg:\n",
    "                cat = catboost.CatBoostClassifier(cat_features=cat_cols, eval_metric='AUC', random_seed=SEED)\n",
    "                params_grid = {\n",
    "                    'learning_rate': lr,\n",
    "                    'depth': d,\n",
    "                    'n_estimators': n,\n",
    "                    'l2_leaf_reg': l2,\n",
    "                }\n",
    "                cat.set_params(**params_grid)\n",
    "                cat.fit(X_train, y_train, silent=True)\n",
    "                preds = cat.predict_proba(X_val)[:, 1]\n",
    "                curr_roc = roc_auc_score(y_val, preds)\n",
    "                print('ROC-AUC =', params_grid, curr_roc)\n",
    "                if curr_roc > roc:\n",
    "                    roc = curr_roc\n",
    "                    params = params_grid"
   ]
  },
  {
   "cell_type": "code",
   "execution_count": 49,
   "id": "6d7c6ff1-030b-446c-a459-2f347828a75a",
   "metadata": {},
   "outputs": [
    {
     "name": "stdout",
     "output_type": "stream",
     "text": [
      "best_params =  {'learning_rate': 0.1, 'depth': 3, 'n_estimators': 40, 'l2_leaf_reg': 3}\n",
      "best_roc =  0.8835978835978837\n"
     ]
    }
   ],
   "source": [
    "print('best_params = ', params)\n",
    "print('best_roc = ', roc)"
   ]
  },
  {
   "cell_type": "markdown",
   "id": "0a3aa1c3-0a6d-481b-b28b-877b9c437dbf",
   "metadata": {},
   "source": [
    "Потом я еще в ручную поигрался с параметрами, пытаясь максимизировать так же и f1, чуть потеряв в ROC-AUC. \n",
    "\n",
    "В итоге получились следующие параметры:"
   ]
  },
  {
   "cell_type": "code",
   "execution_count": 50,
   "id": "988a1e67-ab22-4527-898a-a7ae3b98dd1d",
   "metadata": {},
   "outputs": [],
   "source": [
    "best_params = {'learning_rate': 0.1, 'depth': 9, 'n_estimators': 40, 'l2_leaf_reg': 6}"
   ]
  },
  {
   "cell_type": "code",
   "execution_count": 51,
   "id": "f6cf7af5-692c-43f6-91f0-79b7153c4865",
   "metadata": {},
   "outputs": [
    {
     "data": {
      "text/plain": [
       "<catboost.core.CatBoostClassifier at 0x284ddcaef88>"
      ]
     },
     "execution_count": 51,
     "metadata": {},
     "output_type": "execute_result"
    }
   ],
   "source": [
    "cat = catboost.CatBoostClassifier(cat_features=cat_cols, eval_metric='AUC', random_seed=SEED)\n",
    "cat.set_params(**best_params)"
   ]
  },
  {
   "cell_type": "code",
   "execution_count": 52,
   "id": "36ae70a8-bc27-40dc-9ec7-e842d0cb8ea9",
   "metadata": {},
   "outputs": [
    {
     "data": {
      "text/plain": [
       "<catboost.core.CatBoostClassifier at 0x284ddcaef88>"
      ]
     },
     "execution_count": 52,
     "metadata": {},
     "output_type": "execute_result"
    }
   ],
   "source": [
    "cat.fit(X_train, y_train, silent=True)"
   ]
  },
  {
   "cell_type": "code",
   "execution_count": 53,
   "id": "8301d1c4-c616-41db-bc41-cb4905e4893e",
   "metadata": {},
   "outputs": [
    {
     "name": "stdout",
     "output_type": "stream",
     "text": [
      "ROC-AUC =  0.879\n"
     ]
    }
   ],
   "source": [
    "preds = cat.predict_proba(X_val)[:, 1]\n",
    "print('ROC-AUC = ', f'{roc_auc_score(y_val, preds):.3f}')"
   ]
  },
  {
   "cell_type": "markdown",
   "id": "74fe48bc-b01e-4dcc-aa9e-161a84e8bc8c",
   "metadata": {},
   "source": [
    "Подберем отсечку того, когда считать фирму банкротом, которая максимизирует f1. Я считаю, что в нашей задаче recall важнее, поэтому возьму fbeta_score, которая в случае бетта больше 1, делает precision менее важным."
   ]
  },
  {
   "cell_type": "code",
   "execution_count": 54,
   "id": "838a22c5-3317-4341-b43c-ee92ce203578",
   "metadata": {
    "tags": []
   },
   "outputs": [
    {
     "name": "stdout",
     "output_type": "stream",
     "text": [
      "threshold =  0.16\n",
      "f1 =  0.61\n",
      "precision 0.25\n",
      "recall 0.94\n"
     ]
    }
   ],
   "source": [
    "best_f1 = 0\n",
    "threshold = 0\n",
    "for th in np.linspace(0, 1, 100):\n",
    "    curr_score = fbeta_score(y_val, preds>th, beta=2)\n",
    "    curr_prec = precision_score(y_val, preds>th, zero_division=0)\n",
    "    curr_recall = recall_score(y_val, preds>th)\n",
    "\n",
    "    if curr_score > best_f1:\n",
    "        best_f1 = curr_score\n",
    "        threshold = th\n",
    "\n",
    "print('threshold = ', f'{threshold:.2f}')\n",
    "print('f1 = ', f'{best_f1:.2f}')\n",
    "print('precision', f'{precision_score(y_val, preds>threshold, zero_division=0):.2f}')\n",
    "print('recall', f'{recall_score(y_val, preds>threshold):.2f}')"
   ]
  },
  {
   "cell_type": "markdown",
   "id": "cb980750-3f14-4d3d-83a8-81e8ff6501aa",
   "metadata": {},
   "source": [
    "Максимальный f1 достигается при отсечке вероятности банкротства в 16%. При такой отсечке и betta=2 precision достаточно низкий, тогда как recall высокий. \n",
    "\n",
    "Отсечкой и betta можно управлять в зависимости от более консервативной, либо рискованной финаносовой политике. \n",
    "\n",
    "Как один из вариантов оценки нашей доходности:\n",
    "\n",
    "    p_bankrupcy - вероятность банкротства\n",
    "    EV - ожидаемый доход\n",
    "    loss - потери в случае банкротства\n",
    "    Summary Value - общий доход\n",
    "\n",
    "Summary Value = (1 - p_bankrupcy) * EV - p_bankrupcy * loss"
   ]
  },
  {
   "cell_type": "markdown",
   "id": "ebfce656-d338-4f12-973d-a36989319912",
   "metadata": {},
   "source": [
    "Посмотрим, какие вероятности возвращает наша модель на случаи, когда фирмы стали банкротами."
   ]
  },
  {
   "cell_type": "code",
   "execution_count": 55,
   "id": "35b1b3a7-276b-4c34-a251-96322a13fec3",
   "metadata": {},
   "outputs": [
    {
     "data": {
      "text/plain": [
       "array([0.12434205, 0.23989192, 0.1655665 , 0.21127809, 0.18779459,\n",
       "       0.1703467 , 0.19820204, 0.16950643, 0.16646322, 0.19588644,\n",
       "       0.22684271, 0.18588671, 0.23989192, 0.26523815, 0.20458707,\n",
       "       0.22109771, 0.2014841 , 0.20058744])"
      ]
     },
     "execution_count": 55,
     "metadata": {},
     "output_type": "execute_result"
    }
   ],
   "source": [
    "y_val.reset_index(drop=True)\n",
    "preds[y_val==1]"
   ]
  },
  {
   "cell_type": "markdown",
   "id": "05acaf37-154e-432f-88e3-5f546606a6da",
   "metadata": {},
   "source": [
    "Вероятности довольно низкие, максимальная вероятность 26%. \n",
    "Мне кажется, что с тем набором данных, да и в целом в этой задаче сложно ожидать более уверенные предсказания, т.к если бы вероятность банкротства фирмы была например 80%, то скорее всего она бы уже до этого разорилась, тк инвесторы заранее начали бы выводить свои деньги, когда вероятность банкротства была ниже.\n",
    "\n",
    "Именно поэтому в данном кейсе надо очень аккуратно работать с отсечкой в зависимости от того, что мы хотим повышать - precision или recall.\n"
   ]
  },
  {
   "cell_type": "markdown",
   "id": "22ee362b-5afb-4b78-8385-8728a803cb96",
   "metadata": {},
   "source": [
    "Возможные действия для дальнейшего улучшения модели:\n",
    "\n",
    "    - получить больше информации из файлов судебных заседаний. Как вариант - сделать признак общая сумма открытых исков на начало года.\n",
    "    \n",
    "    - найти больше финансовых показателей на компании"
   ]
  }
 ],
 "metadata": {
  "kernelspec": {
   "display_name": "Python 3",
   "language": "python",
   "name": "python3"
  },
  "language_info": {
   "codemirror_mode": {
    "name": "ipython",
    "version": 3
   },
   "file_extension": ".py",
   "mimetype": "text/x-python",
   "name": "python",
   "nbconvert_exporter": "python",
   "pygments_lexer": "ipython3",
   "version": "3.7.11"
  }
 },
 "nbformat": 4,
 "nbformat_minor": 5
}
