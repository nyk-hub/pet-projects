{
 "cells": [
  {
   "cell_type": "markdown",
   "metadata": {},
   "source": [
    "# Peer-graded Assignment: Эксперименты с моделью\n",
    "\n",
    "На прошлой неделе вы поучаствовали в соревновании на kaggle и, наверняка, большинство успешно справилось с прохождением baseline, а значит пора двигаться дальше - заняться оптимизацией модели, провести серию экспериментов и построить сильное финальное решения.\n",
    "\n",
    "В этом задании вам нужно провести ряд эскпериментов, оценить качество полученных в процессе экспериментирования моделей и выбрать лучшее решение. "
   ]
  },
  {
   "cell_type": "markdown",
   "metadata": {},
   "source": [
    "Задание будет оцениваться на основании загруженного jupyther notebook и развернутых ответов на поставленные вопросы."
   ]
  },
  {
   "cell_type": "code",
   "execution_count": 1,
   "metadata": {},
   "outputs": [
    {
     "name": "stdout",
     "output_type": "stream",
     "text": [
      "Populating the interactive namespace from numpy and matplotlib\n"
     ]
    },
    {
     "name": "stderr",
     "output_type": "stream",
     "text": [
      "C:\\Users\\nspap\\anaconda3\\lib\\site-packages\\IPython\\core\\magics\\pylab.py:160: UserWarning: pylab import has clobbered these variables: ['sample', 'plt']\n",
      "`%matplotlib` prevents importing * from pylab and numpy\n",
      "  \"\\n`%matplotlib` prevents importing * from pylab and numpy\"\n"
     ]
    }
   ],
   "source": [
    "import pandas as pd\n",
    "import numpy as np\n",
    "from pylab import matplotlib as plt\n",
    "import seaborn as sns\n",
    "from sklearn.model_selection import train_test_split, learning_curve, StratifiedKFold, cross_val_score, KFold, GridSearchCV\n",
    "from sklearn import model_selection, preprocessing, ensemble, metrics, manifold\n",
    "from sklearn.metrics import average_precision_score, roc_auc_score\n",
    "from sklearn.preprocessing import LabelEncoder\n",
    "from sklearn.svm import LinearSVC\n",
    "from sklearn.feature_selection import SelectFromModel\n",
    "import xgboost as xgb\n",
    "from random import sample\n",
    "%pylab inline"
   ]
  },
  {
   "cell_type": "code",
   "execution_count": 11,
   "metadata": {},
   "outputs": [],
   "source": [
    "def plot_learning_curve(estimator, title, X, y, axes=None, ylim=None, cv=None,\n",
    "                        n_jobs=None, train_sizes=np.linspace(.1, 1.0, 5)):\n",
    "   \n",
    "    plt.figure(figsize=(15,6))\n",
    "    plt.title(title)\n",
    "    if ylim is not None:\n",
    "        plt.ylim(*ylim)\n",
    "    plt.xlabel(\"Training examples\")\n",
    "    plt.ylabel(\"ROC-AUC score\")\n",
    "    \n",
    "    train_sizes, train_scores, test_scores, fit_times, _ = \\\n",
    "        learning_curve(estimator, X, y, cv=cv, n_jobs=n_jobs,\n",
    "                       train_sizes=train_sizes,\n",
    "                       return_times=True,\n",
    "                       scoring='roc_auc')\n",
    "    train_scores_mean = np.mean(train_scores, axis=1)\n",
    "    train_scores_std = np.std(train_scores, axis=1)\n",
    "    test_scores_mean = np.mean(test_scores, axis=1)\n",
    "    test_scores_std = np.std(test_scores, axis=1)\n",
    "    fit_times_mean = np.mean(fit_times, axis=1)\n",
    "    fit_times_std = np.std(fit_times, axis=1)\n",
    "\n",
    "    # Plot learning curve\n",
    "    plt.grid()\n",
    "    plt.fill_between(train_sizes, train_scores_mean - train_scores_std,\n",
    "                         train_scores_mean + train_scores_std, alpha=0.1,\n",
    "                         color=\"r\")\n",
    "    plt.fill_between(train_sizes, test_scores_mean - test_scores_std,\n",
    "                         test_scores_mean + test_scores_std, alpha=0.1,\n",
    "                         color=\"g\")\n",
    "    plt.plot(train_sizes, train_scores_mean, 'o-', color=\"r\",\n",
    "                 label=\"Training score\")\n",
    "    plt.plot(train_sizes, test_scores_mean, 'o-', color=\"g\",\n",
    "                 label=\"Cross-validation score\")\n",
    "    plt.legend(loc=\"best\")\n",
    "    print('Точка максимального качества на кросс-валидации:', max(list(zip(test_scores_mean, train_sizes))))\n",
    "    return plt"
   ]
  },
  {
   "cell_type": "markdown",
   "metadata": {},
   "source": [
    "## Инструкции"
   ]
  },
  {
   "cell_type": "markdown",
   "metadata": {},
   "source": [
    "1\\. Начнем с простого. Давайте оценим как много объектов действительно нужно для построения качественной модели. Для обучения доступна достаточно большая выборка и может так оказаться, что начиная с некоторого момента рост размера обучающей выборки перестает влиять на качество модели. Постройте кривые обучения, обучая модель на выборках разного размера начиная с небольшого количество объектов в обучающей выборке и постепенно наращивая её размер с некоторым шагом. Обратите внимание на `sklearn.model_selection.learning_curve`"
   ]
  },
  {
   "cell_type": "code",
   "execution_count": 12,
   "metadata": {},
   "outputs": [],
   "source": [
    "train_data = pd.read_csv('orange_small_churn_train_data.csv')\n",
    "test_data = pd.read_csv('orange_small_churn_test_data.csv')\n",
    "train_data.drop([18298], axis=0, inplace=True)"
   ]
  },
  {
   "cell_type": "code",
   "execution_count": 13,
   "metadata": {},
   "outputs": [],
   "source": [
    "numeric_train = train_data.iloc[:, 1:191].fillna(0)\n",
    "numeric_test = test_data.iloc[:, 1:191].fillna(0)\n",
    "categorial_train = train_data.iloc[:, 191:-2]\n",
    "categorial_test = test_data.iloc[:, 191:-1]\n",
    "y = train_data.iloc[:, 231]"
   ]
  },
  {
   "cell_type": "code",
   "execution_count": 14,
   "metadata": {},
   "outputs": [],
   "source": [
    "categorial = pd.concat([categorial_train, categorial_test], axis=0)\n",
    "categorial_encode = categorial.fillna('?').apply(LabelEncoder().fit_transform)\n",
    "categorial_train_encode = categorial_encode.iloc[:18298, :]\n",
    "categorial_test_encode = categorial_encode.iloc[18298:, :]\n",
    "X_train = pd.concat([numeric_train, categorial_train_encode], axis=1)\n",
    "X_test = pd.concat([numeric_test, categorial_test_encode], axis=1)"
   ]
  },
  {
   "cell_type": "code",
   "execution_count": 15,
   "metadata": {},
   "outputs": [],
   "source": [
    "xgb_class = xgb.XGBClassifier(booster='gbtree', learning_rate=0.2, max_depth=1, n_estimators=100)\n",
    "cv = StratifiedKFold(n_splits=10, shuffle=True, random_state = 17)"
   ]
  },
  {
   "cell_type": "code",
   "execution_count": 16,
   "metadata": {},
   "outputs": [
    {
     "name": "stdout",
     "output_type": "stream",
     "text": [
      "Точка максимального качества на кросс-валидации: (0.7284939366991734, 16468)\n"
     ]
    },
    {
     "data": {
      "image/png": "[encoded data removed]",
      "text/plain": [
       "<Figure size 1080x432 with 1 Axes>"
      ]
     },
     "metadata": {
      "needs_background": "light"
     },
     "output_type": "display_data"
    }
   ],
   "source": [
    "plot_learning_curve(xgb_class, 'Learning Curve, XGBClassifier', X_train, y, cv=cv, train_sizes=np.linspace(.1, 1.0, 10))\n",
    "plt.show()"
   ]
  },
  {
   "cell_type": "markdown",
   "metadata": {},
   "source": [
    "Как видим, качество модели на кросс-валидации растет в зависимости от количества объектов в обучении, переобучения не происходит, лучше использовать весь датасет."
   ]
  },
  {
   "cell_type": "markdown",
   "metadata": {},
   "source": [
    "2\\. Часто несбалансированные по классам выборки приводят к различным проблемам при обучении моделей. Давайте попробуем по-разному обработать выборку, поиграть с распределением объектов по классам и сделать выводы о том, как соотношение классов влияет на качество модели."
   ]
  },
  {
   "cell_type": "markdown",
   "metadata": {},
   "source": [
    "2.1\\. Задайте веса объектам так, чтобы соотношение классов с учетом весов объектов изменилось. Попробуйте не менее трёх различных вариантов весов. Меняются ли результаты классификации? Как это сказывается на качестве модели? Какой вариант выглядит наиболее оптимальным с точки зрения качества?"
   ]
  },
  {
   "cell_type": "markdown",
   "metadata": {},
   "source": [
    "Зададим 3 коэффициента взвешивания - 1 к 1, корень квадратный отношения объектов с меткой 1 к объектам с меткой -1 и просто отношение объектов."
   ]
  },
  {
   "cell_type": "code",
   "execution_count": 17,
   "metadata": {},
   "outputs": [
    {
     "data": {
      "text/plain": [
       "[1, 0.2852685912240248, 0.08137816913893978, 0.03]"
      ]
     },
     "execution_count": 17,
     "metadata": {},
     "output_type": "execute_result"
    }
   ],
   "source": [
    "weights = [1, sqrt(y.value_counts()[1] / y.value_counts()[-1]), y.value_counts()[1] / y.value_counts()[-1], 0.03]\n",
    "weights"
   ]
  },
  {
   "cell_type": "markdown",
   "metadata": {},
   "source": [
    "ROC-AUC при различных весах:"
   ]
  },
  {
   "cell_type": "code",
   "execution_count": 18,
   "metadata": {},
   "outputs": [
    {
     "name": "stdout",
     "output_type": "stream",
     "text": [
      "weights = 1.00, ROC-AUC = 0.7285\n",
      "weights = 0.29, ROC-AUC = 0.7277\n",
      "weights = 0.08, ROC-AUC = 0.728\n",
      "weights = 0.03, ROC-AUC = 0.7267\n"
     ]
    }
   ],
   "source": [
    "cv = StratifiedKFold(n_splits=10, shuffle=True, random_state = 17)\n",
    "for w in weights:    \n",
    "    xgb_class = xgb.XGBClassifier(\n",
    "        booster='gbtree', learning_rate=0.2, max_depth=1, n_estimators=100, scale_pos_weight=w)\n",
    "    w_cv_scores = cross_val_score(xgb_class, X_train, y, cv=cv, scoring='roc_auc', n_jobs=-1)\n",
    "    print(f'weights = {w:.2f}, ROC-AUC = {w_cv_scores.mean():.4}')"
   ]
  },
  {
   "cell_type": "markdown",
   "metadata": {},
   "source": [
    "Лучший результат при весах 1 к 1, но близкий у него при 0.08, можно будет попробовать оба эти варианта."
   ]
  },
  {
   "cell_type": "markdown",
   "metadata": {},
   "source": [
    "2.2\\. Примените к выборке технологию undersampling: для этого нужно убрать из обучения некоторое количество объектов большего класса таким образом, чтобы соотношение классов изменилось. Попробуйте не менее трёх различных вариантов undersampling (варианты могут отличаться как по количество отфильтрованных объектов, так и по принципу выборка объектов для отсеивания из выборки). Меняются ли результаты классификации? Как это сказывается на качестве модели? Какой вариант выглядит наиболее оптимальным с точки зрения качества?"
   ]
  },
  {
   "cell_type": "markdown",
   "metadata": {},
   "source": [
    "ROC-AUC при обучении на всей выборке"
   ]
  },
  {
   "cell_type": "code",
   "execution_count": 19,
   "metadata": {},
   "outputs": [
    {
     "name": "stdout",
     "output_type": "stream",
     "text": [
      "ROC-AUC 0.7266762342647708\n"
     ]
    }
   ],
   "source": [
    "cv_scores0 = cross_val_score(xgb_class, X_train, y, cv=cv, scoring='roc_auc', n_jobs=-1)\n",
    "print('ROC-AUC', cv_scores0.mean())"
   ]
  },
  {
   "cell_type": "markdown",
   "metadata": {},
   "source": [
    "Первый вариант - одинаковое количество объектов с метками 1 и -1. Берем все объекты с меткой один и первые 1377 объектов с меткой -1"
   ]
  },
  {
   "cell_type": "code",
   "execution_count": 20,
   "metadata": {},
   "outputs": [
    {
     "data": {
      "text/plain": [
       "-1.0    16921\n",
       " 1.0     1377\n",
       "Name: labels, dtype: int64"
      ]
     },
     "execution_count": 20,
     "metadata": {},
     "output_type": "execute_result"
    }
   ],
   "source": [
    "y.value_counts()"
   ]
  },
  {
   "cell_type": "code",
   "execution_count": 21,
   "metadata": {},
   "outputs": [],
   "source": [
    "X1 = pd.concat([X_train[y==1], X_train[y==-1][:1337]])\n",
    "y1 = pd.concat([y[y==1], y[y==-1][:1337]])"
   ]
  },
  {
   "cell_type": "code",
   "execution_count": 22,
   "metadata": {},
   "outputs": [
    {
     "name": "stdout",
     "output_type": "stream",
     "text": [
      "ROC-AUC 0.7134065625134184\n"
     ]
    }
   ],
   "source": [
    "cv_scores = cross_val_score(xgb_class, X1, y1, cv=cv, scoring='roc_auc', n_jobs=-1)\n",
    "print('ROC-AUC', cv_scores.mean())"
   ]
  },
  {
   "cell_type": "markdown",
   "metadata": {},
   "source": [
    "Второй вариант - одинаковое количество объектов с метками 1 и -1. Берем все объекты с меткой один и случайные 1377 объектов с меткой -1"
   ]
  },
  {
   "cell_type": "code",
   "execution_count": 23,
   "metadata": {},
   "outputs": [],
   "source": [
    "idx1 = y[y==1].index\n",
    "idx_1 = y[y==-1].index"
   ]
  },
  {
   "cell_type": "code",
   "execution_count": 24,
   "metadata": {},
   "outputs": [],
   "source": [
    "rows = np.random.choice(X_train.iloc[idx_1, :].index.values, 1377, replace=False)\n",
    "rows = np.sort(rows, axis=-1)"
   ]
  },
  {
   "cell_type": "code",
   "execution_count": 25,
   "metadata": {},
   "outputs": [],
   "source": [
    "X2 = pd.concat([X_train.iloc[rows, :], X_train.iloc[idx1, :]])\n",
    "y2 = pd.concat([y[rows], y[idx1]])"
   ]
  },
  {
   "cell_type": "code",
   "execution_count": 26,
   "metadata": {},
   "outputs": [
    {
     "name": "stdout",
     "output_type": "stream",
     "text": [
      "ROC-AUC 0.7138028415179907\n"
     ]
    }
   ],
   "source": [
    "cv_scores2 = cross_val_score(xgb_class, X2, y2, cv=cv, scoring='roc_auc', n_jobs=-1)\n",
    "print('ROC-AUC', cv_scores2.mean())"
   ]
  },
  {
   "cell_type": "markdown",
   "metadata": {},
   "source": [
    "Третий вариант - возьмем все объекты с меткой 1 и добавим 4000 объектов с меткой -1, чтобы соотношение получилось примерно 1\\3"
   ]
  },
  {
   "cell_type": "code",
   "execution_count": 27,
   "metadata": {},
   "outputs": [],
   "source": [
    "X3 = pd.concat([X_train[y==1], X_train[y==-1][:4000]])\n",
    "y3 = pd.concat([y[y==1], y[y==-1][:4000]])"
   ]
  },
  {
   "cell_type": "code",
   "execution_count": 28,
   "metadata": {},
   "outputs": [
    {
     "data": {
      "text/plain": [
       "(5377, 229)"
      ]
     },
     "execution_count": 28,
     "metadata": {},
     "output_type": "execute_result"
    }
   ],
   "source": [
    "X3.shape"
   ]
  },
  {
   "cell_type": "code",
   "execution_count": 29,
   "metadata": {},
   "outputs": [
    {
     "name": "stdout",
     "output_type": "stream",
     "text": [
      "ROC-AUC 0.715540767481223\n"
     ]
    }
   ],
   "source": [
    "cv_scores3 = cross_val_score(xgb_class, X3, y3, cv=cv, scoring='roc_auc', n_jobs=-1)\n",
    "print('ROC-AUC', cv_scores3.mean())"
   ]
  },
  {
   "cell_type": "markdown",
   "metadata": {},
   "source": [
    "Лучшее значение было при изначальном балансе классов."
   ]
  },
  {
   "cell_type": "markdown",
   "metadata": {},
   "source": [
    "3\\. Теперь перейдем к работе с признаками. Ранее вы реализовали несколько стратегий для обработки пропущенных значений. Сравните эти стратегии между собой с помощью оценки качества моделей кросс-валидации, построенных на датасетах с использованием различных стратегий. Как обработка пропущенных значений сказывается на качестве модели? Какой вариант выглядит наиболее оптимальным с точки зрения качества?"
   ]
  },
  {
   "cell_type": "code",
   "execution_count": 30,
   "metadata": {},
   "outputs": [],
   "source": [
    "xgb_class = xgb.XGBClassifier(booster='gbtree', learning_rate=0.2, max_depth=1, n_estimators=100)\n",
    "cv = StratifiedKFold(n_splits=10, shuffle=True, random_state = 17)"
   ]
  },
  {
   "cell_type": "markdown",
   "metadata": {},
   "source": [
    "Заполнение наиболее часто встречающимися значениями:"
   ]
  },
  {
   "cell_type": "code",
   "execution_count": 31,
   "metadata": {},
   "outputs": [],
   "source": [
    "numeric_train = train_data.iloc[:, 1:191]\n",
    "numeric_test = test_data.iloc[:, 1:191]"
   ]
  },
  {
   "cell_type": "code",
   "execution_count": 32,
   "metadata": {},
   "outputs": [],
   "source": [
    "train_often = pd.DataFrame()\n",
    "for feature in numeric_train:\n",
    "    if numeric_train[feature].dropna().empty:\n",
    "        numeric_train.drop(feature, axis=1, inplace=True)\n",
    "    else:\n",
    "        often = numeric_train[feature].dropna().value_counts().idxmax()\n",
    "        train_often[feature] = numeric_train[feature].fillna(often)\n",
    "        \n",
    "test_often = pd.DataFrame()\n",
    "for feature in numeric_test:\n",
    "    if numeric_test[feature].dropna().empty:\n",
    "        numeric_test.drop(feature, axis=1, inplace=True)\n",
    "    else:\n",
    "        often = numeric_test[feature].dropna().value_counts().idxmax()\n",
    "        test_often[feature] = numeric_test[feature].fillna(often)"
   ]
  },
  {
   "cell_type": "code",
   "execution_count": 33,
   "metadata": {},
   "outputs": [],
   "source": [
    "X_train_often = pd.concat([train_often, categorial_train_encode], axis=1)\n",
    "X_test_often = pd.concat([test_often, categorial_test_encode], axis=1)"
   ]
  },
  {
   "cell_type": "code",
   "execution_count": 34,
   "metadata": {},
   "outputs": [
    {
     "name": "stdout",
     "output_type": "stream",
     "text": [
      "ROC-AUC 0.7249367637000065\n"
     ]
    }
   ],
   "source": [
    "cv_scores_mean = cross_val_score(xgb_class, X_train_often, y, cv=cv, scoring='roc_auc', n_jobs=-1)\n",
    "print('ROC-AUC', cv_scores_mean.mean())"
   ]
  },
  {
   "cell_type": "markdown",
   "metadata": {},
   "source": [
    "Заполнение нулями: (мы в начале уже преобразовывали датасет)"
   ]
  },
  {
   "cell_type": "code",
   "execution_count": 26,
   "metadata": {},
   "outputs": [
    {
     "name": "stdout",
     "output_type": "stream",
     "text": [
      "ROC-AUC 0.7284930739012925\n"
     ]
    }
   ],
   "source": [
    "cv_scores_zero = cross_val_score(xgb_class, X_train, y, cv=cv, scoring='roc_auc', n_jobs=-1)\n",
    "print('ROC-AUC', cv_scores_zero.mean())"
   ]
  },
  {
   "cell_type": "markdown",
   "metadata": {},
   "source": [
    "Заполнение средними значениями:"
   ]
  },
  {
   "cell_type": "code",
   "execution_count": 35,
   "metadata": {},
   "outputs": [],
   "source": [
    "train_mean = pd.DataFrame()\n",
    "for feature in numeric_train:\n",
    "    mean = numeric_train[feature].dropna().mean()\n",
    "    train_mean[feature] = numeric_train[feature].fillna(mean)\n",
    "test_mean = pd.DataFrame()\n",
    "for feature in numeric_test:\n",
    "    mean = numeric_test[feature].dropna().mean()\n",
    "    test_mean[feature] = numeric_test[feature].fillna(mean)"
   ]
  },
  {
   "cell_type": "code",
   "execution_count": 36,
   "metadata": {},
   "outputs": [],
   "source": [
    "X_train_mean = pd.concat([train_mean, categorial_train_encode], axis=1)\n",
    "X_test_mean = pd.concat([test_mean, categorial_test_encode], axis=1)"
   ]
  },
  {
   "cell_type": "code",
   "execution_count": 37,
   "metadata": {},
   "outputs": [
    {
     "name": "stdout",
     "output_type": "stream",
     "text": [
      "ROC-AUC 0.7326105158464555\n"
     ]
    }
   ],
   "source": [
    "cv_scores_mean = cross_val_score(\n",
    "    xgb_class, X_train_mean, y, \n",
    "    cv=cv, scoring='roc_auc', n_jobs=-1)\n",
    "print('ROC-AUC', cv_scores_mean.mean())"
   ]
  },
  {
   "cell_type": "markdown",
   "metadata": {},
   "source": [
    "Заполнение средними значениями лучше."
   ]
  },
  {
   "cell_type": "code",
   "execution_count": 38,
   "metadata": {},
   "outputs": [],
   "source": [
    "numerical_best = train_mean"
   ]
  },
  {
   "cell_type": "markdown",
   "metadata": {},
   "source": [
    "4\\. Также вы уже реализовали несколько стратегий для обработки категориальных признаков. Сравните эти стратегии между собой с помощью оценки качества моделей по кросс-валидации, построенных на датасетах с использованием различных стратегий. Как обработка категориальных признаков сказывается на качестве модели? Какой вариант выглядит наиболее оптимальным с точки зрения качества?"
   ]
  },
  {
   "cell_type": "markdown",
   "metadata": {},
   "source": [
    "Вариант 1 - LabelEncoding использовался выше, значение ROC-AUC = 0.7326105158464555\n",
    "\n",
    "Попробуем для сравнения OneHotEncoding"
   ]
  },
  {
   "cell_type": "code",
   "execution_count": 39,
   "metadata": {},
   "outputs": [],
   "source": [
    "categorial_encode_OHE = pd.get_dummies(categorial.fillna('?'))\n",
    "categorial_train_encode_OHE = categorial_encode_OHE.iloc[:18298, :]"
   ]
  },
  {
   "cell_type": "code",
   "execution_count": 40,
   "metadata": {},
   "outputs": [],
   "source": [
    "X_train_OHE = pd.concat([numerical_best, categorial_train_encode_OHE], axis=1)"
   ]
  },
  {
   "cell_type": "code",
   "execution_count": 41,
   "metadata": {},
   "outputs": [
    {
     "data": {
      "text/plain": [
       "(18298, 52448)"
      ]
     },
     "execution_count": 41,
     "metadata": {},
     "output_type": "execute_result"
    }
   ],
   "source": [
    "X_train_OHE.shape"
   ]
  },
  {
   "cell_type": "code",
   "execution_count": 34,
   "metadata": {},
   "outputs": [
    {
     "name": "stdout",
     "output_type": "stream",
     "text": [
      "ROC-AUC 0.7341294248990917\n",
      "Wall time: 17min 13s\n"
     ]
    }
   ],
   "source": [
    "%%time\n",
    "cv = StratifiedKFold(n_splits=3, shuffle=True, random_state = 17)\n",
    "cv_scores_OHE = cross_val_score(xgb_class, X_train_OHE, y, cv=cv, scoring='roc_auc', n_jobs=-1)\n",
    "print('ROC-AUC', cv_scores_OHE.mean())"
   ]
  },
  {
   "cell_type": "markdown",
   "metadata": {},
   "source": [
    "Результат отличается в третьем знаке, но при этом обучается гораздо дольше.\n",
    "\n",
    "Можно попробовать третий, компромисный вариант - часть признаков кодировать OHE - те признаки, где количество значений меньше 15, а часть LE - все остальные. "
   ]
  },
  {
   "cell_type": "code",
   "execution_count": 42,
   "metadata": {},
   "outputs": [],
   "source": [
    "categorial_OHE = []\n",
    "categorial_LE = []\n",
    "for cf in categorial_train:\n",
    "    if categorial_train[cf].value_counts().shape[0] < 15:\n",
    "        categorial_OHE.append(cf)\n",
    "    else:\n",
    "        categorial_LE.append(cf)"
   ]
  },
  {
   "cell_type": "code",
   "execution_count": 43,
   "metadata": {},
   "outputs": [],
   "source": [
    "categorial_encode_LE = categorial_train[categorial_LE].fillna('?').apply(LabelEncoder().fit_transform)\n",
    "categorial_encode_LE_test = categorial_test[categorial_LE].fillna('?').apply(LabelEncoder().fit_transform)\n",
    "categorial_train_encode_LE = categorial_encode_LE.iloc[:18298, :]\n",
    "categorial_test_encode_LE = categorial_encode_LE_test.iloc[18298:, :]"
   ]
  },
  {
   "cell_type": "code",
   "execution_count": 44,
   "metadata": {},
   "outputs": [],
   "source": [
    "categorial_encode_OHE = pd.get_dummies(categorial_train[categorial_OHE].fillna('?'))\n",
    "categorial_encode_OHE_test = pd.get_dummies(categorial_test[categorial_OHE].fillna('?'))\n",
    "categorial_train_encode_OHE = categorial_encode_OHE.iloc[:18298, :]\n",
    "categorial_test_encode_OHE = categorial_encode_OHE.iloc[18298:, :]"
   ]
  },
  {
   "cell_type": "code",
   "execution_count": 45,
   "metadata": {},
   "outputs": [],
   "source": [
    "categorial_encode_train = pd.concat([categorial_train_encode_OHE, categorial_train_encode_LE], axis=1)\n",
    "categorial_encode_test = pd.concat([categorial_test_encode_OHE, categorial_test_encode_LE], axis=1)"
   ]
  },
  {
   "cell_type": "code",
   "execution_count": 46,
   "metadata": {},
   "outputs": [
    {
     "data": {
      "text/plain": [
       "(18298, 275)"
      ]
     },
     "execution_count": 46,
     "metadata": {},
     "output_type": "execute_result"
    }
   ],
   "source": [
    "X_train_mix = pd.concat([numerical_best, categorial_encode_train], axis=1)\n",
    "X_train_mix.shape"
   ]
  },
  {
   "cell_type": "code",
   "execution_count": 47,
   "metadata": {},
   "outputs": [
    {
     "name": "stdout",
     "output_type": "stream",
     "text": [
      "ROC-AUC 0.7340695305521597\n",
      "Wall time: 4.71 s\n"
     ]
    }
   ],
   "source": [
    "%%time\n",
    "cv = StratifiedKFold(n_splits=10, shuffle=True, random_state = 17)\n",
    "cv_scores_mix = cross_val_score(xgb_class, X_train_mix, y, cv=cv, scoring='roc_auc', n_jobs=-1)\n",
    "print('ROC-AUC', cv_scores_mix.mean())"
   ]
  },
  {
   "cell_type": "markdown",
   "metadata": {},
   "source": [
    "Отличие теперь только в 4 знаке, а разность в скорости работы налицо. Оставим такой вид кодировки."
   ]
  },
  {
   "cell_type": "code",
   "execution_count": 48,
   "metadata": {},
   "outputs": [],
   "source": [
    "categorial_best = categorial_encode_train"
   ]
  },
  {
   "cell_type": "markdown",
   "metadata": {},
   "source": [
    "5\\. Все ли признаки оказались полезными для построения моделей? Проведите процедуру отбора признаков, попробуйте разные варианты отбора (обратите внимание на модуль `sklearn.feature_selection`). Например, можно выбрасывать случайные признаки или строить отбор на основе l1-регуляризации - отфильтровать из обучения признаки, которые получат нулевой вес при построении регрессии с l1-регуляризацией (`sklearn.linear_model.Lasso`). И всегда можно придумать что-то своё=) Попробуйте как минимум 2 различные стратегии, сравните результаты. Помог ли отбор признаков улучшить качество модели? Поясните свой ответ."
   ]
  },
  {
   "cell_type": "markdown",
   "metadata": {},
   "source": [
    "Для начала попробуем выбросить все признаки, у которых больше 80% пропусков в значениях на объектах."
   ]
  },
  {
   "cell_type": "code",
   "execution_count": 49,
   "metadata": {},
   "outputs": [],
   "source": [
    "train_80 = pd.DataFrame()\n",
    "for feature in X_train:\n",
    "    if X_train[X_train[feature]==0].shape[0] / X_train.shape[0] < 0.8:\n",
    "        train_80[feature] = X_train[feature]"
   ]
  },
  {
   "cell_type": "code",
   "execution_count": 50,
   "metadata": {},
   "outputs": [
    {
     "data": {
      "text/plain": [
       "(18298, 67)"
      ]
     },
     "execution_count": 50,
     "metadata": {},
     "output_type": "execute_result"
    }
   ],
   "source": [
    "train_80.shape"
   ]
  },
  {
   "cell_type": "code",
   "execution_count": 51,
   "metadata": {},
   "outputs": [
    {
     "name": "stdout",
     "output_type": "stream",
     "text": [
      "ROC-AUC 0.729162949629151\n"
     ]
    }
   ],
   "source": [
    "cv = StratifiedKFold(n_splits=10, shuffle=True, random_state = 17)\n",
    "cv_scores_80 = cross_val_score(xgb_class, train_80, y, cv=cv, scoring='roc_auc', n_jobs=-1)\n",
    "print('ROC-AUC', cv_scores_80.mean())"
   ]
  },
  {
   "cell_type": "markdown",
   "metadata": {},
   "source": [
    "Результат получился чуть лучше, чем при обучении по всем признакам и заполнении нулями(0.72849)\n",
    "\n",
    "Полезные признаки:"
   ]
  },
  {
   "cell_type": "code",
   "execution_count": 52,
   "metadata": {},
   "outputs": [
    {
     "data": {
      "text/plain": [
       "Index(['Var6', 'Var7', 'Var13', 'Var21', 'Var22', 'Var24', 'Var25', 'Var28',\n",
       "       'Var38', 'Var57', 'Var65', 'Var72', 'Var73', 'Var74', 'Var76', 'Var81',\n",
       "       'Var83', 'Var85', 'Var94', 'Var109', 'Var112', 'Var113', 'Var119',\n",
       "       'Var123', 'Var125', 'Var126', 'Var133', 'Var134', 'Var140', 'Var144',\n",
       "       'Var149', 'Var153', 'Var160', 'Var163', 'Var189', 'Var192', 'Var193',\n",
       "       'Var194', 'Var195', 'Var197', 'Var198', 'Var199', 'Var200', 'Var201',\n",
       "       'Var202', 'Var204', 'Var205', 'Var206', 'Var207', 'Var208', 'Var210',\n",
       "       'Var212', 'Var214', 'Var216', 'Var217', 'Var218', 'Var219', 'Var220',\n",
       "       'Var221', 'Var222', 'Var223', 'Var224', 'Var225', 'Var226', 'Var227',\n",
       "       'Var228', 'Var229'],\n",
       "      dtype='object')"
      ]
     },
     "execution_count": 52,
     "metadata": {},
     "output_type": "execute_result"
    }
   ],
   "source": [
    "feature_idx = train_80.columns\n",
    "feature_idx"
   ]
  },
  {
   "cell_type": "code",
   "execution_count": 53,
   "metadata": {},
   "outputs": [],
   "source": [
    "numerical_idx = ['Var6', 'Var7', 'Var13', 'Var21', 'Var22', 'Var24', 'Var25', 'Var28',\n",
    "       'Var38', 'Var57', 'Var65', 'Var72', 'Var73', 'Var74', 'Var76', 'Var81',\n",
    "       'Var83', 'Var85', 'Var94', 'Var109', 'Var112', 'Var113', 'Var119',\n",
    "       'Var123', 'Var125', 'Var126', 'Var133', 'Var134', 'Var140', 'Var144',\n",
    "       'Var149', 'Var153', 'Var160', 'Var163', 'Var189']"
   ]
  },
  {
   "cell_type": "markdown",
   "metadata": {},
   "source": [
    "Теперь попробуем отбор признаков с помощью L1-регуляризатора"
   ]
  },
  {
   "cell_type": "code",
   "execution_count": 54,
   "metadata": {},
   "outputs": [
    {
     "name": "stderr",
     "output_type": "stream",
     "text": [
      "C:\\Users\\nspap\\anaconda3\\lib\\site-packages\\sklearn\\svm\\_base.py:977: ConvergenceWarning: Liblinear failed to converge, increase the number of iterations.\n",
      "  \"the number of iterations.\", ConvergenceWarning)\n"
     ]
    }
   ],
   "source": [
    "lsvc = LinearSVC(C=0.01, penalty=\"l1\", dual=False).fit(X_train, y)\n",
    "model = SelectFromModel(lsvc, prefit=True)"
   ]
  },
  {
   "cell_type": "code",
   "execution_count": 55,
   "metadata": {},
   "outputs": [
    {
     "data": {
      "text/plain": [
       "(18298, 74)"
      ]
     },
     "execution_count": 55,
     "metadata": {},
     "output_type": "execute_result"
    }
   ],
   "source": [
    "X_lasso = model.transform(X_train)\n",
    "X_lasso.shape"
   ]
  },
  {
   "cell_type": "code",
   "execution_count": 56,
   "metadata": {},
   "outputs": [
    {
     "name": "stdout",
     "output_type": "stream",
     "text": [
      "ROC-AUC 0.7246427240330773\n"
     ]
    }
   ],
   "source": [
    "cv_scores_lasso = cross_val_score(xgb_class, X_lasso, y, cv=cv, scoring='roc_auc', n_jobs=-1)\n",
    "print('ROC-AUC', cv_scores_lasso.mean())"
   ]
  },
  {
   "cell_type": "markdown",
   "metadata": {},
   "source": [
    "Первый вариант отбора признаков сработал чуть лучше.\n",
    "\n",
    "Проверим ROC-AUC при таком отборе признаков с миксед кодированием категориальных признаков."
   ]
  },
  {
   "cell_type": "code",
   "execution_count": 57,
   "metadata": {},
   "outputs": [],
   "source": [
    "X_train_best = pd.concat([numerical_best.loc[:, numerical_idx], categorial_best], axis=1)"
   ]
  },
  {
   "cell_type": "code",
   "execution_count": 58,
   "metadata": {},
   "outputs": [
    {
     "name": "stdout",
     "output_type": "stream",
     "text": [
      "ROC-AUC 0.7340447253678952\n",
      "Wall time: 2.7 s\n"
     ]
    }
   ],
   "source": [
    "%%time\n",
    "cv = StratifiedKFold(n_splits=10, shuffle=True, random_state = 17)\n",
    "cv_scores_mix = cross_val_score(xgb_class, X_train_best, y, cv=cv, scoring='roc_auc', n_jobs=-1)\n",
    "print('ROC-AUC', cv_scores_mix.mean())"
   ]
  },
  {
   "cell_type": "markdown",
   "metadata": {},
   "source": [
    "Результат практически аналогичен тому, что был без отбора признаков."
   ]
  },
  {
   "cell_type": "markdown",
   "metadata": {},
   "source": [
    "6\\. Подберите оптимальные параметры модели. Обратите внимание, что в зависимости от того, как вы обработали исходные данные, сделали ли балансировку классов, сколько объектов оставили в обучающей выборке и др. оптимальные значения параметров могут меняться. Возьмите наилучшее из ваших решений на текущий момент и проведите процедуру подбора параметров модели (обратите внимание на `sklearn.model_selection.GridSearchCV`) Как подбор параметров повлиял на качество модели?"
   ]
  },
  {
   "cell_type": "code",
   "execution_count": 59,
   "metadata": {},
   "outputs": [],
   "source": [
    "xgb_class = xgb.XGBClassifier(booster='gbtree')"
   ]
  },
  {
   "cell_type": "code",
   "execution_count": 60,
   "metadata": {},
   "outputs": [],
   "source": [
    "parameters_grid = {\n",
    "    'n_estimators' : [50, 100, 200],\n",
    "    'max_depth': [1, 2, 3],\n",
    "    'learning_rate': [0.1, 0.2]\n",
    "}"
   ]
  },
  {
   "cell_type": "code",
   "execution_count": 61,
   "metadata": {},
   "outputs": [],
   "source": [
    "grid_cv = GridSearchCV(xgb_class, parameters_grid, scoring = 'roc_auc', cv = cv, n_jobs=-1)"
   ]
  },
  {
   "cell_type": "code",
   "execution_count": 62,
   "metadata": {},
   "outputs": [
    {
     "name": "stdout",
     "output_type": "stream",
     "text": [
      "Wall time: 1min 13s\n"
     ]
    },
    {
     "data": {
      "text/plain": [
       "GridSearchCV(cv=StratifiedKFold(n_splits=10, random_state=17, shuffle=True),\n",
       "             estimator=XGBClassifier(base_score=None, booster='gbtree',\n",
       "                                     colsample_bylevel=None,\n",
       "                                     colsample_bynode=None,\n",
       "                                     colsample_bytree=None, gamma=None,\n",
       "                                     gpu_id=None, importance_type='gain',\n",
       "                                     interaction_constraints=None,\n",
       "                                     learning_rate=None, max_delta_step=None,\n",
       "                                     max_depth=None, min_child_weight=None,\n",
       "                                     missing=nan, monotone_constraints=None,\n",
       "                                     n_estimators=100, n_jobs=None,\n",
       "                                     num_parallel_tree=None, random_state=None,\n",
       "                                     reg_alpha=None, reg_lambda=None,\n",
       "                                     scale_pos_weight=None, subsample=None,\n",
       "                                     tree_method=None, validate_parameters=None,\n",
       "                                     verbosity=None),\n",
       "             n_jobs=-1,\n",
       "             param_grid={'learning_rate': [0.1, 0.2], 'max_depth': [1, 2, 3],\n",
       "                         'n_estimators': [50, 100, 200]},\n",
       "             scoring='roc_auc')"
      ]
     },
     "execution_count": 62,
     "metadata": {},
     "output_type": "execute_result"
    }
   ],
   "source": [
    "%time grid_cv.fit(X_train_best, y)"
   ]
  },
  {
   "cell_type": "code",
   "execution_count": 63,
   "metadata": {},
   "outputs": [
    {
     "name": "stdout",
     "output_type": "stream",
     "text": [
      "0.7354632210692775\n",
      "{'learning_rate': 0.1, 'max_depth': 2, 'n_estimators': 100}\n"
     ]
    }
   ],
   "source": [
    "print(grid_cv.best_score_)\n",
    "print(grid_cv.best_params_)"
   ]
  },
  {
   "cell_type": "code",
   "execution_count": 64,
   "metadata": {},
   "outputs": [],
   "source": [
    "xgb_class = xgb.XGBClassifier(booster='gbtree', max_depth=2, n_estimators=100, learning_rate=0.1).fit(X_train_best, y)"
   ]
  },
  {
   "cell_type": "markdown",
   "metadata": {},
   "source": [
    "Оптимальная глубина изменилась с 1 на прошлой неделе на 2 а learning_rate с 0.2 на 0.1"
   ]
  },
  {
   "cell_type": "markdown",
   "metadata": {},
   "source": [
    "7\\. Предложите методику оценки того, какие признаки внесли наибольший вклад в модель (например, это могут быть веса в случае регрессии, а также большое количество моделей реализуют метод `feature_importances_` - оценка важности признаков). На основе предложенной методики проанализируйте, какие признаки внесли больший вклад в модель, а какие меньший?"
   ]
  },
  {
   "cell_type": "code",
   "execution_count": 58,
   "metadata": {},
   "outputs": [
    {
     "data": {
      "text/html": [
       "<div>\n",
       "<style scoped>\n",
       "    .dataframe tbody tr th:only-of-type {\n",
       "        vertical-align: middle;\n",
       "    }\n",
       "\n",
       "    .dataframe tbody tr th {\n",
       "        vertical-align: top;\n",
       "    }\n",
       "\n",
       "    .dataframe thead th {\n",
       "        text-align: right;\n",
       "    }\n",
       "</style>\n",
       "<table border=\"1\" class=\"dataframe\">\n",
       "  <thead>\n",
       "    <tr style=\"text-align: right;\">\n",
       "      <th></th>\n",
       "      <th>importance</th>\n",
       "      <th>labels</th>\n",
       "    </tr>\n",
       "  </thead>\n",
       "  <tbody>\n",
       "    <tr>\n",
       "      <th>2</th>\n",
       "      <td>0.066613</td>\n",
       "      <td>Var13</td>\n",
       "    </tr>\n",
       "    <tr>\n",
       "      <th>25</th>\n",
       "      <td>0.055269</td>\n",
       "      <td>Var126</td>\n",
       "    </tr>\n",
       "    <tr>\n",
       "      <th>84</th>\n",
       "      <td>0.055046</td>\n",
       "      <td>Var218_?</td>\n",
       "    </tr>\n",
       "    <tr>\n",
       "      <th>55</th>\n",
       "      <td>0.051689</td>\n",
       "      <td>Var205_sJzTlal</td>\n",
       "    </tr>\n",
       "    <tr>\n",
       "      <th>12</th>\n",
       "      <td>0.050283</td>\n",
       "      <td>Var73</td>\n",
       "    </tr>\n",
       "    <tr>\n",
       "      <th>24</th>\n",
       "      <td>0.049413</td>\n",
       "      <td>Var125</td>\n",
       "    </tr>\n",
       "    <tr>\n",
       "      <th>13</th>\n",
       "      <td>0.048475</td>\n",
       "      <td>Var74</td>\n",
       "    </tr>\n",
       "    <tr>\n",
       "      <th>34</th>\n",
       "      <td>0.041822</td>\n",
       "      <td>Var189</td>\n",
       "    </tr>\n",
       "    <tr>\n",
       "      <th>21</th>\n",
       "      <td>0.038494</td>\n",
       "      <td>Var113</td>\n",
       "    </tr>\n",
       "    <tr>\n",
       "      <th>86</th>\n",
       "      <td>0.036912</td>\n",
       "      <td>Var218_cJvF</td>\n",
       "    </tr>\n",
       "  </tbody>\n",
       "</table>\n",
       "</div>"
      ],
      "text/plain": [
       "    importance          labels\n",
       "2     0.066613           Var13\n",
       "25    0.055269          Var126\n",
       "84    0.055046        Var218_?\n",
       "55    0.051689  Var205_sJzTlal\n",
       "12    0.050283           Var73\n",
       "24    0.049413          Var125\n",
       "13    0.048475           Var74\n",
       "34    0.041822          Var189\n",
       "21    0.038494          Var113\n",
       "86    0.036912     Var218_cJvF"
      ]
     },
     "metadata": {},
     "output_type": "display_data"
    }
   ],
   "source": [
    "importance = pd.DataFrame(xgb_class.feature_importances_, columns=[\"importance\"])\n",
    "importance[\"labels\"] = X_train_best.columns.values\n",
    "importance.sort_values(\"importance\", inplace=True, ascending=False)\n",
    "display(importance.head(10))"
   ]
  },
  {
   "cell_type": "markdown",
   "metadata": {},
   "source": [
    "8\\. Напоследок давайте посмотрим на объекты. На каких объектах достигается наибольшая ошибка классификации? Есть ли межу этими объектами что-то общее? Видны ли какие-либо закономерности? Предположите, почему наибольшая ошибка достигается именно на этих объектах. В данном случае \"наибольшую\" ошибку можно понимать как отнесение объекта с чужому классу с большой долей уверенности (с высокой вероятностью)."
   ]
  },
  {
   "cell_type": "code",
   "execution_count": null,
   "metadata": {},
   "outputs": [],
   "source": []
  },
  {
   "cell_type": "markdown",
   "metadata": {},
   "source": [
    "9\\. По итогам проведенных экспериментов постройте финальную решение - модель с наилучшим качеством. Укажите, какие преобразования данных, параметры и пр. вы выбрали для построения финальной модели."
   ]
  },
  {
   "cell_type": "code",
   "execution_count": 59,
   "metadata": {},
   "outputs": [],
   "source": [
    "X_test_best = pd.concat([test_mean[numerical_idx], categorial_encode_test], axis=1)"
   ]
  },
  {
   "cell_type": "markdown",
   "metadata": {},
   "source": [
    "Оставляем только важные признаки, заменяем NaN на средние значения, кодируем категориальные признаки частично методом LabelEncoder, частично методом OHE. Используем подобранные в прошлом пункте параметры."
   ]
  },
  {
   "cell_type": "code",
   "execution_count": 60,
   "metadata": {},
   "outputs": [],
   "source": [
    "xgb_class = xgb.XGBClassifier(\n",
    "    booster='gbtree', max_depth=2, n_estimators=100, learning_rate=0.1).fit(X_train_best, y)"
   ]
  },
  {
   "cell_type": "code",
   "execution_count": 65,
   "metadata": {},
   "outputs": [
    {
     "name": "stdout",
     "output_type": "stream",
     "text": [
      "ROC-AUC 0.7354632210692775\n"
     ]
    }
   ],
   "source": [
    "cv_scores_mean_opt = cross_val_score(xgb_class, X_train_best, y, cv=cv, scoring='roc_auc', n_jobs=-1)\n",
    "print('ROC-AUC', cv_scores_mean_opt.mean())"
   ]
  },
  {
   "cell_type": "code",
   "execution_count": 66,
   "metadata": {},
   "outputs": [
    {
     "name": "stdout",
     "output_type": "stream",
     "text": [
      "Точка максимального качества на кросс-валидации: (0.7351584377178254, 16468)\n"
     ]
    },
    {
     "data": {
      "image/png": "[encoded data removed]",
      "text/plain": [
       "<Figure size 1080x432 with 1 Axes>"
      ]
     },
     "metadata": {
      "needs_background": "light"
     },
     "output_type": "display_data"
    }
   ],
   "source": [
    "xgb_class = xgb.XGBClassifier(\n",
    "    booster='gbtree', max_depth=2, n_estimators=100, learning_rate=0.1).fit(X_train_best, y)\n",
    "plot_learning_curve(\n",
    "    xgb_class, 'Learning Curve, XGBClassifier', X_train_best, y, cv=cv, train_sizes=np.linspace(.1, 1.0, 10))\n",
    "plt.show()"
   ]
  },
  {
   "cell_type": "code",
   "execution_count": null,
   "metadata": {},
   "outputs": [],
   "source": []
  },
  {
   "cell_type": "code",
   "execution_count": null,
   "metadata": {},
   "outputs": [],
   "source": []
  },
  {
   "cell_type": "markdown",
   "metadata": {},
   "source": [
    "10\\. Подумайте, можно ли еще улучшить модель? Что для этого можно сделать? "
   ]
  },
  {
   "cell_type": "markdown",
   "metadata": {
    "jupyter": {
     "outputs_hidden": true
    }
   },
   "source": [
    "Более тщательно отбирать признаки, добавить новые \"хорошие\" признаки."
   ]
  }
 ],
 "metadata": {
  "kernelspec": {
   "display_name": "Python 3",
   "language": "python",
   "name": "python3"
  },
  "language_info": {
   "codemirror_mode": {
    "name": "ipython",
    "version": 3
   },
   "file_extension": ".py",
   "mimetype": "text/x-python",
   "name": "python",
   "nbconvert_exporter": "python",
   "pygments_lexer": "ipython3",
   "version": "3.7.9"
  }
 },
 "nbformat": 4,
 "nbformat_minor": 4
}
